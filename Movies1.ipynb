{
 "cells": [
  {
   "cell_type": "markdown",
   "metadata": {},
   "source": [
    "# <center> My Movie Journey <center>"
   ]
  },
  {
   "cell_type": "markdown",
   "metadata": {},
   "source": [
    "I like watching movies, and this project is about the movies I have watched so far (as of March 13th, 2021). The notebook includes the following sections:\n",
    "1. Introduction & Motivation\n",
    "2. Data Wrangling & Cleaning\n",
    "3. Exploratory Data Analysis\n",
    "4. Modeling\n",
    "5. Demo<br>\n",
    "Appendix A: User defined modules<br>\n",
    "Appendix B: Package versions"
   ]
  },
  {
   "cell_type": "markdown",
   "metadata": {},
   "source": [
    "## 1. Introduction & Motivation"
   ]
  },
  {
   "cell_type": "markdown",
   "metadata": {},
   "source": [
    "I keep a movie diary on a website called 'letterboxd' (https://letterboxd.com/). Letterboxd (LBD) allows you to keep a record of movies you watched, to rate movies, to write reviews, and to connect with other film lovers. It also allows you to export your LBD profile history as csv files. So, in multiple different csv files, you can find names of the movies you watched, along with your ratings, reviews, etc. It also includes LBD URIs of movies. I thought that I can use these URIs to scrape LBD webpage to extract more information about the movies which are not included in LBD export, such as genre, duration, director, IMDb URL, cast, etc. My motivates in doing so are:\n",
    "- To discover patterns in my watch history: which genres I watched most, from which countries, etc.\n",
    "- To spend less time picking a movie out\n",
    "\n",
    "I cannot emphasize enough the importance of the last point above. More often than not, I spend quite some time to decide on a movie. This thought process is not only time consuming but also draining. I thought if I *learn* from my watch history (including my ratings), I can spend less time when picking out a movie next time. What I have in mind is to build a machine learning model, using movie features as *features* and my rating as a *target variable*. So, when I need to decide whether a movie is worth watching or not, I can use this model to *predict* my rating for it.\n",
    "\n",
    "The rest of the notebook includes coding, visualizations, modeling, and results. There are a few points to mention before going forward. First, I used IMDb, not LBD, to extract movie features, as the former is more up-to-date than the latter. In order to do that, I scraped LBD pages of movies to get IMDb URLs, and then scraped the IMDb pages. Second, every .."
   ]
  },
  {
   "cell_type": "markdown",
   "metadata": {},
   "source": [
    "## 2. Data Wrangling & Cleaning\n",
    "### 2.1 Import libraries and read data"
   ]
  },
  {
   "cell_type": "code",
   "execution_count": 2,
   "metadata": {},
   "outputs": [],
   "source": [
    "import os\n",
    "#wdir=\"<my working directory>\"\n",
    "#os.chdir(wdir)\n",
    "\n",
    "# mostly used \n",
    "import pandas as pd\n",
    "import numpy as np\n",
    "\n",
    "# user defined modules (see Appendix for details)\n",
    "from imdb_to_df import F_imdb_to_df\n",
    "from df_to_ml import F_df_to_ml\n",
    "\n",
    "# for web scraping\n",
    "from urllib.request import urlopen\n",
    "\n",
    "# for plots\n",
    "import matplotlib.pyplot as plt \n",
    "import plotly.express as px\n",
    "import pycountry\n",
    "import plotly.io as pio\n",
    "from matplotlib.colors import LinearSegmentedColormap, Normalize\n",
    "from matplotlib.ticker import PercentFormatter\n",
    "from matplotlib.patches import Rectangle\n",
    "import matplotlib.lines as mlines\n",
    "\n",
    "# for modeling\n",
    "from sklearn.model_selection import train_test_split\n",
    "from sklearn.ensemble import RandomForestRegressor\n",
    "from sklearn.model_selection import RandomizedSearchCV\n",
    "from sklearn.metrics import mean_squared_error\n",
    "import xgboost as xgb\n",
    "\n",
    "# to center output (but in notebook only, does NOT apply to html output for some reason!)\n",
    "from IPython.display import HTML, display\n",
    "\n",
    "# to save and load ML models\n",
    "import pickle\n",
    "\n",
    "# to get package versions\n",
    "from importlib.metadata import version"
   ]
  },
  {
   "cell_type": "code",
   "execution_count": 5,
   "metadata": {},
   "outputs": [
    {
     "data": {
      "text/html": [
       "<div>\n",
       "<style scoped>\n",
       "    .dataframe tbody tr th:only-of-type {\n",
       "        vertical-align: middle;\n",
       "    }\n",
       "\n",
       "    .dataframe tbody tr th {\n",
       "        vertical-align: top;\n",
       "    }\n",
       "\n",
       "    .dataframe thead th {\n",
       "        text-align: right;\n",
       "    }\n",
       "</style>\n",
       "<table border=\"1\" class=\"dataframe\">\n",
       "  <thead>\n",
       "    <tr style=\"text-align: right;\">\n",
       "      <th></th>\n",
       "      <th>Date</th>\n",
       "      <th>Name</th>\n",
       "      <th>Year</th>\n",
       "      <th>Letterboxd URI</th>\n",
       "      <th>Rating</th>\n",
       "    </tr>\n",
       "  </thead>\n",
       "  <tbody>\n",
       "    <tr>\n",
       "      <th>0</th>\n",
       "      <td>8/20/16</td>\n",
       "      <td>Mondays in the Sun</td>\n",
       "      <td>2002</td>\n",
       "      <td>https://boxd.it/tWs</td>\n",
       "      <td>5.0</td>\n",
       "    </tr>\n",
       "    <tr>\n",
       "      <th>1</th>\n",
       "      <td>8/20/16</td>\n",
       "      <td>Bliss</td>\n",
       "      <td>2007</td>\n",
       "      <td>https://boxd.it/1zE2</td>\n",
       "      <td>3.0</td>\n",
       "    </tr>\n",
       "    <tr>\n",
       "      <th>2</th>\n",
       "      <td>8/20/16</td>\n",
       "      <td>Black Bread</td>\n",
       "      <td>2010</td>\n",
       "      <td>https://boxd.it/mva</td>\n",
       "      <td>3.5</td>\n",
       "    </tr>\n",
       "  </tbody>\n",
       "</table>\n",
       "</div>"
      ],
      "text/plain": [
       "      Date                Name  Year        Letterboxd URI  Rating\n",
       "0  8/20/16  Mondays in the Sun  2002   https://boxd.it/tWs     5.0\n",
       "1  8/20/16               Bliss  2007  https://boxd.it/1zE2     3.0\n",
       "2  8/20/16         Black Bread  2010   https://boxd.it/mva     3.5"
      ]
     },
     "execution_count": 5,
     "metadata": {},
     "output_type": "execute_result"
    }
   ],
   "source": [
    "raw_df=pd.read_csv(\"../DATA/ratings.csv\") # read Letterboxd export\n",
    "\n",
    "raw_df.head(3)"
   ]
  },
  {
   "cell_type": "markdown",
   "metadata": {},
   "source": [
    "This file (\"ratings.csv\") is one of the files exported from LBD. 'Date' column refers the date when you added the movie. 'Name' is the name of the movie, and 'Year' is the release year. 'Letterboxd URI' includes the link for movie page on LBD, and 'Rating' includes my rating (out of 5) for the movie. This rating will be scaled to 10 in the next code chunk in order to be consistent with IMDb rating scale.\n",
    "\n",
    "Now, I will use this data to create a dataframe that includes more information by scraping IMDB website."
   ]
  },
  {
   "cell_type": "markdown",
   "metadata": {},
   "source": [
    "### 2.2 Scrape IMDb website"
   ]
  },
  {
   "cell_type": "code",
   "execution_count": null,
   "metadata": {},
   "outputs": [],
   "source": [
    "### PART 1: scrape Letterboxd website to get IMDb URLs ###\n",
    "\n",
    "# create an empty list for IMDB URLs\n",
    "imdb=[]\n",
    "\n",
    "check_str='http://www.imdb.com/title/tt'\n",
    "\n",
    "for i in range(raw_df.shape[0]):\n",
    "    \n",
    "    link=raw_df['Letterboxd URI'][i]\n",
    "    f = urlopen(link)\n",
    "    myfile = f.read()\n",
    "    a=str(myfile)\n",
    "    \n",
    "    # imdb url\n",
    "    st=a.find(check_str)\n",
    "    if(st==-1): # no imdb link from letterboxd data (very rare case, but still can happen!)\n",
    "        continue\n",
    "    \n",
    "    ed=a.find(\"/\",st+len(check_str))\n",
    "    imdb.append(a[st:ed])\n",
    "  \n",
    "    # close old connection and delete related variables\n",
    "    f.close()\n",
    "    del link,myfile,f,a,st,ed\n",
    "        \n",
    "\n",
    "### PART 2:  scrape IMDb website to get features dataframe (df) ###\n",
    "\n",
    "df=F_imdb_to_df(imdb) # see Appendix for function defintion\n",
    "\n",
    "# get name and my rating data from raw file\n",
    "df['name']=raw_df['Name'] # will not be used, but good to have\n",
    "df['rating_my']=raw_df['Rating']*2 # convert LBD scale to 10"
   ]
  },
  {
   "cell_type": "code",
   "execution_count": 2,
   "metadata": {},
   "outputs": [
    {
     "name": "stdout",
     "output_type": "stream",
     "text": [
      "<class 'pandas.core.frame.DataFrame'>\n",
      "RangeIndex: 1119 entries, 0 to 1118\n",
      "Data columns (total 9 columns):\n",
      " #   Column       Non-Null Count  Dtype  \n",
      "---  ------       --------------  -----  \n",
      " 0   country      1119 non-null   object \n",
      " 1   director     1119 non-null   object \n",
      " 2   year         1119 non-null   int64  \n",
      " 3   genres       1119 non-null   object \n",
      " 4   rating_imdb  1119 non-null   float64\n",
      " 5   duration     1119 non-null   float64\n",
      " 6   imdb_url     1119 non-null   object \n",
      " 7   name         1119 non-null   object \n",
      " 8   rating_my    1119 non-null   float64\n",
      "dtypes: float64(3), int64(1), object(5)\n",
      "memory usage: 78.8+ KB\n"
     ]
    }
   ],
   "source": [
    "# check data\n",
    "df.head(3)\n",
    "df.info() # see column types and missing values\n",
    "\n",
    "# write file\n",
    "#pd.DataFrame.to_csv(df,'../DATA/df.csv',index=False)"
   ]
  },
  {
   "cell_type": "markdown",
   "metadata": {},
   "source": [
    "## 3. Exploratory Data Analysis"
   ]
  },
  {
   "cell_type": "markdown",
   "metadata": {},
   "source": [
    "In this section, I will present some data visualizations to have a better feeling of the data. Titles of subsections refer to the feature to be analyzed."
   ]
  },
  {
   "cell_type": "code",
   "execution_count": 3,
   "metadata": {},
   "outputs": [
    {
     "data": {
      "text/html": [
       "<div>\n",
       "<style scoped>\n",
       "    .dataframe tbody tr th:only-of-type {\n",
       "        vertical-align: middle;\n",
       "    }\n",
       "\n",
       "    .dataframe tbody tr th {\n",
       "        vertical-align: top;\n",
       "    }\n",
       "\n",
       "    .dataframe thead th {\n",
       "        text-align: right;\n",
       "    }\n",
       "</style>\n",
       "<table border=\"1\" class=\"dataframe\">\n",
       "  <thead>\n",
       "    <tr style=\"text-align: right;\">\n",
       "      <th></th>\n",
       "      <th>country</th>\n",
       "      <th>director</th>\n",
       "      <th>year</th>\n",
       "      <th>genres</th>\n",
       "      <th>rating_imdb</th>\n",
       "      <th>duration</th>\n",
       "      <th>imdb_url</th>\n",
       "      <th>name</th>\n",
       "      <th>rating_my</th>\n",
       "    </tr>\n",
       "  </thead>\n",
       "  <tbody>\n",
       "    <tr>\n",
       "      <th>0</th>\n",
       "      <td>Spain</td>\n",
       "      <td>Fernando León de Aranoa</td>\n",
       "      <td>2002</td>\n",
       "      <td>comedy_drama</td>\n",
       "      <td>7.6</td>\n",
       "      <td>113.0</td>\n",
       "      <td>http://www.imdb.com/title/tt0319769</td>\n",
       "      <td>Mondays in the Sun</td>\n",
       "      <td>10.0</td>\n",
       "    </tr>\n",
       "    <tr>\n",
       "      <th>1</th>\n",
       "      <td>Turkey</td>\n",
       "      <td>Abdullah Oguz</td>\n",
       "      <td>2007</td>\n",
       "      <td>drama</td>\n",
       "      <td>7.5</td>\n",
       "      <td>105.0</td>\n",
       "      <td>http://www.imdb.com/title/tt0978649</td>\n",
       "      <td>Bliss</td>\n",
       "      <td>6.0</td>\n",
       "    </tr>\n",
       "    <tr>\n",
       "      <th>2</th>\n",
       "      <td>Spain</td>\n",
       "      <td>Agustí Villaronga</td>\n",
       "      <td>2010</td>\n",
       "      <td>crime_drama</td>\n",
       "      <td>6.9</td>\n",
       "      <td>108.0</td>\n",
       "      <td>http://www.imdb.com/title/tt1454523</td>\n",
       "      <td>Black Bread</td>\n",
       "      <td>7.0</td>\n",
       "    </tr>\n",
       "  </tbody>\n",
       "</table>\n",
       "</div>"
      ],
      "text/plain": [
       "  country                 director  year        genres  rating_imdb  duration  \\\n",
       "0   Spain  Fernando León de Aranoa  2002  comedy_drama          7.6     113.0   \n",
       "1  Turkey            Abdullah Oguz  2007         drama          7.5     105.0   \n",
       "2   Spain        Agustí Villaronga  2010   crime_drama          6.9     108.0   \n",
       "\n",
       "                              imdb_url                name  rating_my  \n",
       "0  http://www.imdb.com/title/tt0319769  Mondays in the Sun       10.0  \n",
       "1  http://www.imdb.com/title/tt0978649               Bliss        6.0  \n",
       "2  http://www.imdb.com/title/tt1454523         Black Bread        7.0  "
      ]
     },
     "execution_count": 3,
     "metadata": {},
     "output_type": "execute_result"
    }
   ],
   "source": [
    "df.head(3)"
   ]
  },
  {
   "cell_type": "markdown",
   "metadata": {},
   "source": [
    "### 3. 1 Country"
   ]
  },
  {
   "cell_type": "code",
   "execution_count": 4,
   "metadata": {},
   "outputs": [
    {
     "data": {
      "text/html": [
       "        <script type=\"text/javascript\">\n",
       "        window.PlotlyConfig = {MathJaxConfig: 'local'};\n",
       "        if (window.MathJax) {MathJax.Hub.Config({SVG: {font: \"STIX-Web\"}});}\n",
       "        if (typeof require !== 'undefined') {\n",
       "        require.undef(\"plotly\");\n",
       "        requirejs.config({\n",
       "            paths: {\n",
       "                'plotly': ['https://cdn.plot.ly/plotly-latest.min']\n",
       "            }\n",
       "        });\n",
       "        require(['plotly'], function(Plotly) {\n",
       "            window._Plotly = Plotly;\n",
       "        });\n",
       "        }\n",
       "        </script>\n",
       "        "
      ]
     },
     "metadata": {},
     "output_type": "display_data"
    },
    {
     "data": {
      "application/vnd.plotly.v1+json": {
       "config": {
        "plotlyServerURL": "https://plot.ly"
       },
       "data": [
        {
         "coloraxis": "coloraxis",
         "geo": "geo",
         "hovertemplate": "<b>%{hovertext}</b><br><br>iso_alpha=%{location}<br>count=%{z}<extra></extra>",
         "hovertext": [
          "Argentina",
          "Austria",
          "Belgium",
          "Bosnia and Herzegovina",
          "Brazil",
          "Canada",
          "Chile",
          "Croatia",
          "Czech Republic",
          "Denmark",
          "Finland",
          "France",
          "Germany",
          "Greece",
          "Hungary",
          "Iceland",
          "Iran",
          "Ireland",
          "Italy",
          "Mexico",
          "Norway",
          "Poland",
          "Romania",
          "Russia",
          "Serbia",
          "Spain",
          "Sweden",
          "Switzerland",
          "Turkey",
          "England",
          "USA"
         ],
         "locations": [
          "ARG",
          "AUT",
          "BEL",
          "BIH",
          "BRA",
          "CAN",
          "CHL",
          "HRV",
          "CZE",
          "DNK",
          "FIN",
          "FRA",
          "DEU",
          "GRC",
          "HUN",
          "ISL",
          "IRN",
          "IRL",
          "ITA",
          "MEX",
          "NOR",
          "POL",
          "ROU",
          "RUS",
          "SRB",
          "ESP",
          "SWE",
          "CHE",
          "TUR",
          "GBR",
          "USA"
         ],
         "name": "",
         "type": "choropleth",
         "z": [
          16,
          10,
          4,
          6,
          8,
          8,
          4,
          5,
          4,
          36,
          10,
          77,
          43,
          6,
          6,
          9,
          18,
          7,
          69,
          11,
          17,
          13,
          8,
          15,
          11,
          30,
          20,
          6,
          271,
          87,
          244
         ]
        }
       ],
       "layout": {
        "coloraxis": {
         "colorbar": {
          "title": {
           "text": "count"
          }
         },
         "colorscale": [
          [
           0,
           "rgb(243, 231, 155)"
          ],
          [
           0.16666666666666666,
           "rgb(250, 196, 132)"
          ],
          [
           0.3333333333333333,
           "rgb(248, 160, 126)"
          ],
          [
           0.5,
           "rgb(235, 127, 134)"
          ],
          [
           0.6666666666666666,
           "rgb(206, 102, 147)"
          ],
          [
           0.8333333333333334,
           "rgb(160, 89, 160)"
          ],
          [
           1,
           "rgb(92, 83, 165)"
          ]
         ]
        },
        "geo": {
         "center": {},
         "domain": {
          "x": [
           0,
           1
          ],
          "y": [
           0,
           1
          ]
         }
        },
        "legend": {
         "tracegroupgap": 0
        },
        "margin": {
         "t": 60
        },
        "template": {
         "data": {
          "bar": [
           {
            "error_x": {
             "color": "#2a3f5f"
            },
            "error_y": {
             "color": "#2a3f5f"
            },
            "marker": {
             "line": {
              "color": "#E5ECF6",
              "width": 0.5
             }
            },
            "type": "bar"
           }
          ],
          "barpolar": [
           {
            "marker": {
             "line": {
              "color": "#E5ECF6",
              "width": 0.5
             }
            },
            "type": "barpolar"
           }
          ],
          "carpet": [
           {
            "aaxis": {
             "endlinecolor": "#2a3f5f",
             "gridcolor": "white",
             "linecolor": "white",
             "minorgridcolor": "white",
             "startlinecolor": "#2a3f5f"
            },
            "baxis": {
             "endlinecolor": "#2a3f5f",
             "gridcolor": "white",
             "linecolor": "white",
             "minorgridcolor": "white",
             "startlinecolor": "#2a3f5f"
            },
            "type": "carpet"
           }
          ],
          "choropleth": [
           {
            "colorbar": {
             "outlinewidth": 0,
             "ticks": ""
            },
            "type": "choropleth"
           }
          ],
          "contour": [
           {
            "colorbar": {
             "outlinewidth": 0,
             "ticks": ""
            },
            "colorscale": [
             [
              0,
              "#0d0887"
             ],
             [
              0.1111111111111111,
              "#46039f"
             ],
             [
              0.2222222222222222,
              "#7201a8"
             ],
             [
              0.3333333333333333,
              "#9c179e"
             ],
             [
              0.4444444444444444,
              "#bd3786"
             ],
             [
              0.5555555555555556,
              "#d8576b"
             ],
             [
              0.6666666666666666,
              "#ed7953"
             ],
             [
              0.7777777777777778,
              "#fb9f3a"
             ],
             [
              0.8888888888888888,
              "#fdca26"
             ],
             [
              1,
              "#f0f921"
             ]
            ],
            "type": "contour"
           }
          ],
          "contourcarpet": [
           {
            "colorbar": {
             "outlinewidth": 0,
             "ticks": ""
            },
            "type": "contourcarpet"
           }
          ],
          "heatmap": [
           {
            "colorbar": {
             "outlinewidth": 0,
             "ticks": ""
            },
            "colorscale": [
             [
              0,
              "#0d0887"
             ],
             [
              0.1111111111111111,
              "#46039f"
             ],
             [
              0.2222222222222222,
              "#7201a8"
             ],
             [
              0.3333333333333333,
              "#9c179e"
             ],
             [
              0.4444444444444444,
              "#bd3786"
             ],
             [
              0.5555555555555556,
              "#d8576b"
             ],
             [
              0.6666666666666666,
              "#ed7953"
             ],
             [
              0.7777777777777778,
              "#fb9f3a"
             ],
             [
              0.8888888888888888,
              "#fdca26"
             ],
             [
              1,
              "#f0f921"
             ]
            ],
            "type": "heatmap"
           }
          ],
          "heatmapgl": [
           {
            "colorbar": {
             "outlinewidth": 0,
             "ticks": ""
            },
            "colorscale": [
             [
              0,
              "#0d0887"
             ],
             [
              0.1111111111111111,
              "#46039f"
             ],
             [
              0.2222222222222222,
              "#7201a8"
             ],
             [
              0.3333333333333333,
              "#9c179e"
             ],
             [
              0.4444444444444444,
              "#bd3786"
             ],
             [
              0.5555555555555556,
              "#d8576b"
             ],
             [
              0.6666666666666666,
              "#ed7953"
             ],
             [
              0.7777777777777778,
              "#fb9f3a"
             ],
             [
              0.8888888888888888,
              "#fdca26"
             ],
             [
              1,
              "#f0f921"
             ]
            ],
            "type": "heatmapgl"
           }
          ],
          "histogram": [
           {
            "marker": {
             "colorbar": {
              "outlinewidth": 0,
              "ticks": ""
             }
            },
            "type": "histogram"
           }
          ],
          "histogram2d": [
           {
            "colorbar": {
             "outlinewidth": 0,
             "ticks": ""
            },
            "colorscale": [
             [
              0,
              "#0d0887"
             ],
             [
              0.1111111111111111,
              "#46039f"
             ],
             [
              0.2222222222222222,
              "#7201a8"
             ],
             [
              0.3333333333333333,
              "#9c179e"
             ],
             [
              0.4444444444444444,
              "#bd3786"
             ],
             [
              0.5555555555555556,
              "#d8576b"
             ],
             [
              0.6666666666666666,
              "#ed7953"
             ],
             [
              0.7777777777777778,
              "#fb9f3a"
             ],
             [
              0.8888888888888888,
              "#fdca26"
             ],
             [
              1,
              "#f0f921"
             ]
            ],
            "type": "histogram2d"
           }
          ],
          "histogram2dcontour": [
           {
            "colorbar": {
             "outlinewidth": 0,
             "ticks": ""
            },
            "colorscale": [
             [
              0,
              "#0d0887"
             ],
             [
              0.1111111111111111,
              "#46039f"
             ],
             [
              0.2222222222222222,
              "#7201a8"
             ],
             [
              0.3333333333333333,
              "#9c179e"
             ],
             [
              0.4444444444444444,
              "#bd3786"
             ],
             [
              0.5555555555555556,
              "#d8576b"
             ],
             [
              0.6666666666666666,
              "#ed7953"
             ],
             [
              0.7777777777777778,
              "#fb9f3a"
             ],
             [
              0.8888888888888888,
              "#fdca26"
             ],
             [
              1,
              "#f0f921"
             ]
            ],
            "type": "histogram2dcontour"
           }
          ],
          "mesh3d": [
           {
            "colorbar": {
             "outlinewidth": 0,
             "ticks": ""
            },
            "type": "mesh3d"
           }
          ],
          "parcoords": [
           {
            "line": {
             "colorbar": {
              "outlinewidth": 0,
              "ticks": ""
             }
            },
            "type": "parcoords"
           }
          ],
          "pie": [
           {
            "automargin": true,
            "type": "pie"
           }
          ],
          "scatter": [
           {
            "marker": {
             "colorbar": {
              "outlinewidth": 0,
              "ticks": ""
             }
            },
            "type": "scatter"
           }
          ],
          "scatter3d": [
           {
            "line": {
             "colorbar": {
              "outlinewidth": 0,
              "ticks": ""
             }
            },
            "marker": {
             "colorbar": {
              "outlinewidth": 0,
              "ticks": ""
             }
            },
            "type": "scatter3d"
           }
          ],
          "scattercarpet": [
           {
            "marker": {
             "colorbar": {
              "outlinewidth": 0,
              "ticks": ""
             }
            },
            "type": "scattercarpet"
           }
          ],
          "scattergeo": [
           {
            "marker": {
             "colorbar": {
              "outlinewidth": 0,
              "ticks": ""
             }
            },
            "type": "scattergeo"
           }
          ],
          "scattergl": [
           {
            "marker": {
             "colorbar": {
              "outlinewidth": 0,
              "ticks": ""
             }
            },
            "type": "scattergl"
           }
          ],
          "scattermapbox": [
           {
            "marker": {
             "colorbar": {
              "outlinewidth": 0,
              "ticks": ""
             }
            },
            "type": "scattermapbox"
           }
          ],
          "scatterpolar": [
           {
            "marker": {
             "colorbar": {
              "outlinewidth": 0,
              "ticks": ""
             }
            },
            "type": "scatterpolar"
           }
          ],
          "scatterpolargl": [
           {
            "marker": {
             "colorbar": {
              "outlinewidth": 0,
              "ticks": ""
             }
            },
            "type": "scatterpolargl"
           }
          ],
          "scatterternary": [
           {
            "marker": {
             "colorbar": {
              "outlinewidth": 0,
              "ticks": ""
             }
            },
            "type": "scatterternary"
           }
          ],
          "surface": [
           {
            "colorbar": {
             "outlinewidth": 0,
             "ticks": ""
            },
            "colorscale": [
             [
              0,
              "#0d0887"
             ],
             [
              0.1111111111111111,
              "#46039f"
             ],
             [
              0.2222222222222222,
              "#7201a8"
             ],
             [
              0.3333333333333333,
              "#9c179e"
             ],
             [
              0.4444444444444444,
              "#bd3786"
             ],
             [
              0.5555555555555556,
              "#d8576b"
             ],
             [
              0.6666666666666666,
              "#ed7953"
             ],
             [
              0.7777777777777778,
              "#fb9f3a"
             ],
             [
              0.8888888888888888,
              "#fdca26"
             ],
             [
              1,
              "#f0f921"
             ]
            ],
            "type": "surface"
           }
          ],
          "table": [
           {
            "cells": {
             "fill": {
              "color": "#EBF0F8"
             },
             "line": {
              "color": "white"
             }
            },
            "header": {
             "fill": {
              "color": "#C8D4E3"
             },
             "line": {
              "color": "white"
             }
            },
            "type": "table"
           }
          ]
         },
         "layout": {
          "annotationdefaults": {
           "arrowcolor": "#2a3f5f",
           "arrowhead": 0,
           "arrowwidth": 1
          },
          "autotypenumbers": "strict",
          "coloraxis": {
           "colorbar": {
            "outlinewidth": 0,
            "ticks": ""
           }
          },
          "colorscale": {
           "diverging": [
            [
             0,
             "#8e0152"
            ],
            [
             0.1,
             "#c51b7d"
            ],
            [
             0.2,
             "#de77ae"
            ],
            [
             0.3,
             "#f1b6da"
            ],
            [
             0.4,
             "#fde0ef"
            ],
            [
             0.5,
             "#f7f7f7"
            ],
            [
             0.6,
             "#e6f5d0"
            ],
            [
             0.7,
             "#b8e186"
            ],
            [
             0.8,
             "#7fbc41"
            ],
            [
             0.9,
             "#4d9221"
            ],
            [
             1,
             "#276419"
            ]
           ],
           "sequential": [
            [
             0,
             "#0d0887"
            ],
            [
             0.1111111111111111,
             "#46039f"
            ],
            [
             0.2222222222222222,
             "#7201a8"
            ],
            [
             0.3333333333333333,
             "#9c179e"
            ],
            [
             0.4444444444444444,
             "#bd3786"
            ],
            [
             0.5555555555555556,
             "#d8576b"
            ],
            [
             0.6666666666666666,
             "#ed7953"
            ],
            [
             0.7777777777777778,
             "#fb9f3a"
            ],
            [
             0.8888888888888888,
             "#fdca26"
            ],
            [
             1,
             "#f0f921"
            ]
           ],
           "sequentialminus": [
            [
             0,
             "#0d0887"
            ],
            [
             0.1111111111111111,
             "#46039f"
            ],
            [
             0.2222222222222222,
             "#7201a8"
            ],
            [
             0.3333333333333333,
             "#9c179e"
            ],
            [
             0.4444444444444444,
             "#bd3786"
            ],
            [
             0.5555555555555556,
             "#d8576b"
            ],
            [
             0.6666666666666666,
             "#ed7953"
            ],
            [
             0.7777777777777778,
             "#fb9f3a"
            ],
            [
             0.8888888888888888,
             "#fdca26"
            ],
            [
             1,
             "#f0f921"
            ]
           ]
          },
          "colorway": [
           "#636efa",
           "#EF553B",
           "#00cc96",
           "#ab63fa",
           "#FFA15A",
           "#19d3f3",
           "#FF6692",
           "#B6E880",
           "#FF97FF",
           "#FECB52"
          ],
          "font": {
           "color": "#2a3f5f"
          },
          "geo": {
           "bgcolor": "white",
           "lakecolor": "white",
           "landcolor": "#E5ECF6",
           "showlakes": true,
           "showland": true,
           "subunitcolor": "white"
          },
          "hoverlabel": {
           "align": "left"
          },
          "hovermode": "closest",
          "mapbox": {
           "style": "light"
          },
          "paper_bgcolor": "white",
          "plot_bgcolor": "#E5ECF6",
          "polar": {
           "angularaxis": {
            "gridcolor": "white",
            "linecolor": "white",
            "ticks": ""
           },
           "bgcolor": "#E5ECF6",
           "radialaxis": {
            "gridcolor": "white",
            "linecolor": "white",
            "ticks": ""
           }
          },
          "scene": {
           "xaxis": {
            "backgroundcolor": "#E5ECF6",
            "gridcolor": "white",
            "gridwidth": 2,
            "linecolor": "white",
            "showbackground": true,
            "ticks": "",
            "zerolinecolor": "white"
           },
           "yaxis": {
            "backgroundcolor": "#E5ECF6",
            "gridcolor": "white",
            "gridwidth": 2,
            "linecolor": "white",
            "showbackground": true,
            "ticks": "",
            "zerolinecolor": "white"
           },
           "zaxis": {
            "backgroundcolor": "#E5ECF6",
            "gridcolor": "white",
            "gridwidth": 2,
            "linecolor": "white",
            "showbackground": true,
            "ticks": "",
            "zerolinecolor": "white"
           }
          },
          "shapedefaults": {
           "line": {
            "color": "#2a3f5f"
           }
          },
          "ternary": {
           "aaxis": {
            "gridcolor": "white",
            "linecolor": "white",
            "ticks": ""
           },
           "baxis": {
            "gridcolor": "white",
            "linecolor": "white",
            "ticks": ""
           },
           "bgcolor": "#E5ECF6",
           "caxis": {
            "gridcolor": "white",
            "linecolor": "white",
            "ticks": ""
           }
          },
          "title": {
           "x": 0.05
          },
          "xaxis": {
           "automargin": true,
           "gridcolor": "white",
           "linecolor": "white",
           "ticks": "",
           "title": {
            "standoff": 15
           },
           "zerolinecolor": "white",
           "zerolinewidth": 2
          },
          "yaxis": {
           "automargin": true,
           "gridcolor": "white",
           "linecolor": "white",
           "ticks": "",
           "title": {
            "standoff": 15
           },
           "zerolinecolor": "white",
           "zerolinewidth": 2
          }
         }
        },
        "title": {
         "text": "Movies by Country <br> (countries with less than 4 movies are excluded)",
         "x": 0.5,
         "xanchor": "center",
         "y": 0.96,
         "yanchor": "top"
        }
       }
      },
      "text/html": [
       "<div>                            <div id=\"f85fbaa3-4f01-47c1-b244-b5f9a736e025\" class=\"plotly-graph-div\" style=\"height:525px; width:100%;\"></div>            <script type=\"text/javascript\">                require([\"plotly\"], function(Plotly) {                    window.PLOTLYENV=window.PLOTLYENV || {};                                    if (document.getElementById(\"f85fbaa3-4f01-47c1-b244-b5f9a736e025\")) {                    Plotly.newPlot(                        \"f85fbaa3-4f01-47c1-b244-b5f9a736e025\",                        [{\"coloraxis\": \"coloraxis\", \"geo\": \"geo\", \"hovertemplate\": \"<b>%{hovertext}</b><br><br>iso_alpha=%{location}<br>count=%{z}<extra></extra>\", \"hovertext\": [\"Argentina\", \"Austria\", \"Belgium\", \"Bosnia and Herzegovina\", \"Brazil\", \"Canada\", \"Chile\", \"Croatia\", \"Czech Republic\", \"Denmark\", \"Finland\", \"France\", \"Germany\", \"Greece\", \"Hungary\", \"Iceland\", \"Iran\", \"Ireland\", \"Italy\", \"Mexico\", \"Norway\", \"Poland\", \"Romania\", \"Russia\", \"Serbia\", \"Spain\", \"Sweden\", \"Switzerland\", \"Turkey\", \"England\", \"USA\"], \"locations\": [\"ARG\", \"AUT\", \"BEL\", \"BIH\", \"BRA\", \"CAN\", \"CHL\", \"HRV\", \"CZE\", \"DNK\", \"FIN\", \"FRA\", \"DEU\", \"GRC\", \"HUN\", \"ISL\", \"IRN\", \"IRL\", \"ITA\", \"MEX\", \"NOR\", \"POL\", \"ROU\", \"RUS\", \"SRB\", \"ESP\", \"SWE\", \"CHE\", \"TUR\", \"GBR\", \"USA\"], \"name\": \"\", \"type\": \"choropleth\", \"z\": [16, 10, 4, 6, 8, 8, 4, 5, 4, 36, 10, 77, 43, 6, 6, 9, 18, 7, 69, 11, 17, 13, 8, 15, 11, 30, 20, 6, 271, 87, 244]}],                        {\"coloraxis\": {\"colorbar\": {\"title\": {\"text\": \"count\"}}, \"colorscale\": [[0.0, \"rgb(243, 231, 155)\"], [0.16666666666666666, \"rgb(250, 196, 132)\"], [0.3333333333333333, \"rgb(248, 160, 126)\"], [0.5, \"rgb(235, 127, 134)\"], [0.6666666666666666, \"rgb(206, 102, 147)\"], [0.8333333333333334, \"rgb(160, 89, 160)\"], [1.0, \"rgb(92, 83, 165)\"]]}, \"geo\": {\"center\": {}, \"domain\": {\"x\": [0.0, 1.0], \"y\": [0.0, 1.0]}}, \"legend\": {\"tracegroupgap\": 0}, \"margin\": {\"t\": 60}, \"template\": {\"data\": {\"bar\": [{\"error_x\": {\"color\": \"#2a3f5f\"}, \"error_y\": {\"color\": \"#2a3f5f\"}, \"marker\": {\"line\": {\"color\": \"#E5ECF6\", \"width\": 0.5}}, \"type\": \"bar\"}], \"barpolar\": [{\"marker\": {\"line\": {\"color\": \"#E5ECF6\", \"width\": 0.5}}, \"type\": \"barpolar\"}], \"carpet\": [{\"aaxis\": {\"endlinecolor\": \"#2a3f5f\", \"gridcolor\": \"white\", \"linecolor\": \"white\", \"minorgridcolor\": \"white\", \"startlinecolor\": \"#2a3f5f\"}, \"baxis\": {\"endlinecolor\": \"#2a3f5f\", \"gridcolor\": \"white\", \"linecolor\": \"white\", \"minorgridcolor\": \"white\", \"startlinecolor\": \"#2a3f5f\"}, \"type\": \"carpet\"}], \"choropleth\": [{\"colorbar\": {\"outlinewidth\": 0, \"ticks\": \"\"}, \"type\": \"choropleth\"}], \"contour\": [{\"colorbar\": {\"outlinewidth\": 0, \"ticks\": \"\"}, \"colorscale\": [[0.0, \"#0d0887\"], [0.1111111111111111, \"#46039f\"], [0.2222222222222222, \"#7201a8\"], [0.3333333333333333, \"#9c179e\"], [0.4444444444444444, \"#bd3786\"], [0.5555555555555556, \"#d8576b\"], [0.6666666666666666, \"#ed7953\"], [0.7777777777777778, \"#fb9f3a\"], [0.8888888888888888, \"#fdca26\"], [1.0, \"#f0f921\"]], \"type\": \"contour\"}], \"contourcarpet\": [{\"colorbar\": {\"outlinewidth\": 0, \"ticks\": \"\"}, \"type\": \"contourcarpet\"}], \"heatmap\": [{\"colorbar\": {\"outlinewidth\": 0, \"ticks\": \"\"}, \"colorscale\": [[0.0, \"#0d0887\"], [0.1111111111111111, \"#46039f\"], [0.2222222222222222, \"#7201a8\"], [0.3333333333333333, \"#9c179e\"], [0.4444444444444444, \"#bd3786\"], [0.5555555555555556, \"#d8576b\"], [0.6666666666666666, \"#ed7953\"], [0.7777777777777778, \"#fb9f3a\"], [0.8888888888888888, \"#fdca26\"], [1.0, \"#f0f921\"]], \"type\": \"heatmap\"}], \"heatmapgl\": [{\"colorbar\": {\"outlinewidth\": 0, \"ticks\": \"\"}, \"colorscale\": [[0.0, \"#0d0887\"], [0.1111111111111111, \"#46039f\"], [0.2222222222222222, \"#7201a8\"], [0.3333333333333333, \"#9c179e\"], [0.4444444444444444, \"#bd3786\"], [0.5555555555555556, \"#d8576b\"], [0.6666666666666666, \"#ed7953\"], [0.7777777777777778, \"#fb9f3a\"], [0.8888888888888888, \"#fdca26\"], [1.0, \"#f0f921\"]], \"type\": \"heatmapgl\"}], \"histogram\": [{\"marker\": {\"colorbar\": {\"outlinewidth\": 0, \"ticks\": \"\"}}, \"type\": \"histogram\"}], \"histogram2d\": [{\"colorbar\": {\"outlinewidth\": 0, \"ticks\": \"\"}, \"colorscale\": [[0.0, \"#0d0887\"], [0.1111111111111111, \"#46039f\"], [0.2222222222222222, \"#7201a8\"], [0.3333333333333333, \"#9c179e\"], [0.4444444444444444, \"#bd3786\"], [0.5555555555555556, \"#d8576b\"], [0.6666666666666666, \"#ed7953\"], [0.7777777777777778, \"#fb9f3a\"], [0.8888888888888888, \"#fdca26\"], [1.0, \"#f0f921\"]], \"type\": \"histogram2d\"}], \"histogram2dcontour\": [{\"colorbar\": {\"outlinewidth\": 0, \"ticks\": \"\"}, \"colorscale\": [[0.0, \"#0d0887\"], [0.1111111111111111, \"#46039f\"], [0.2222222222222222, \"#7201a8\"], [0.3333333333333333, \"#9c179e\"], [0.4444444444444444, \"#bd3786\"], [0.5555555555555556, \"#d8576b\"], [0.6666666666666666, \"#ed7953\"], [0.7777777777777778, \"#fb9f3a\"], [0.8888888888888888, \"#fdca26\"], [1.0, \"#f0f921\"]], \"type\": \"histogram2dcontour\"}], \"mesh3d\": [{\"colorbar\": {\"outlinewidth\": 0, \"ticks\": \"\"}, \"type\": \"mesh3d\"}], \"parcoords\": [{\"line\": {\"colorbar\": {\"outlinewidth\": 0, \"ticks\": \"\"}}, \"type\": \"parcoords\"}], \"pie\": [{\"automargin\": true, \"type\": \"pie\"}], \"scatter\": [{\"marker\": {\"colorbar\": {\"outlinewidth\": 0, \"ticks\": \"\"}}, \"type\": \"scatter\"}], \"scatter3d\": [{\"line\": {\"colorbar\": {\"outlinewidth\": 0, \"ticks\": \"\"}}, \"marker\": {\"colorbar\": {\"outlinewidth\": 0, \"ticks\": \"\"}}, \"type\": \"scatter3d\"}], \"scattercarpet\": [{\"marker\": {\"colorbar\": {\"outlinewidth\": 0, \"ticks\": \"\"}}, \"type\": \"scattercarpet\"}], \"scattergeo\": [{\"marker\": {\"colorbar\": {\"outlinewidth\": 0, \"ticks\": \"\"}}, \"type\": \"scattergeo\"}], \"scattergl\": [{\"marker\": {\"colorbar\": {\"outlinewidth\": 0, \"ticks\": \"\"}}, \"type\": \"scattergl\"}], \"scattermapbox\": [{\"marker\": {\"colorbar\": {\"outlinewidth\": 0, \"ticks\": \"\"}}, \"type\": \"scattermapbox\"}], \"scatterpolar\": [{\"marker\": {\"colorbar\": {\"outlinewidth\": 0, \"ticks\": \"\"}}, \"type\": \"scatterpolar\"}], \"scatterpolargl\": [{\"marker\": {\"colorbar\": {\"outlinewidth\": 0, \"ticks\": \"\"}}, \"type\": \"scatterpolargl\"}], \"scatterternary\": [{\"marker\": {\"colorbar\": {\"outlinewidth\": 0, \"ticks\": \"\"}}, \"type\": \"scatterternary\"}], \"surface\": [{\"colorbar\": {\"outlinewidth\": 0, \"ticks\": \"\"}, \"colorscale\": [[0.0, \"#0d0887\"], [0.1111111111111111, \"#46039f\"], [0.2222222222222222, \"#7201a8\"], [0.3333333333333333, \"#9c179e\"], [0.4444444444444444, \"#bd3786\"], [0.5555555555555556, \"#d8576b\"], [0.6666666666666666, \"#ed7953\"], [0.7777777777777778, \"#fb9f3a\"], [0.8888888888888888, \"#fdca26\"], [1.0, \"#f0f921\"]], \"type\": \"surface\"}], \"table\": [{\"cells\": {\"fill\": {\"color\": \"#EBF0F8\"}, \"line\": {\"color\": \"white\"}}, \"header\": {\"fill\": {\"color\": \"#C8D4E3\"}, \"line\": {\"color\": \"white\"}}, \"type\": \"table\"}]}, \"layout\": {\"annotationdefaults\": {\"arrowcolor\": \"#2a3f5f\", \"arrowhead\": 0, \"arrowwidth\": 1}, \"autotypenumbers\": \"strict\", \"coloraxis\": {\"colorbar\": {\"outlinewidth\": 0, \"ticks\": \"\"}}, \"colorscale\": {\"diverging\": [[0, \"#8e0152\"], [0.1, \"#c51b7d\"], [0.2, \"#de77ae\"], [0.3, \"#f1b6da\"], [0.4, \"#fde0ef\"], [0.5, \"#f7f7f7\"], [0.6, \"#e6f5d0\"], [0.7, \"#b8e186\"], [0.8, \"#7fbc41\"], [0.9, \"#4d9221\"], [1, \"#276419\"]], \"sequential\": [[0.0, \"#0d0887\"], [0.1111111111111111, \"#46039f\"], [0.2222222222222222, \"#7201a8\"], [0.3333333333333333, \"#9c179e\"], [0.4444444444444444, \"#bd3786\"], [0.5555555555555556, \"#d8576b\"], [0.6666666666666666, \"#ed7953\"], [0.7777777777777778, \"#fb9f3a\"], [0.8888888888888888, \"#fdca26\"], [1.0, \"#f0f921\"]], \"sequentialminus\": [[0.0, \"#0d0887\"], [0.1111111111111111, \"#46039f\"], [0.2222222222222222, \"#7201a8\"], [0.3333333333333333, \"#9c179e\"], [0.4444444444444444, \"#bd3786\"], [0.5555555555555556, \"#d8576b\"], [0.6666666666666666, \"#ed7953\"], [0.7777777777777778, \"#fb9f3a\"], [0.8888888888888888, \"#fdca26\"], [1.0, \"#f0f921\"]]}, \"colorway\": [\"#636efa\", \"#EF553B\", \"#00cc96\", \"#ab63fa\", \"#FFA15A\", \"#19d3f3\", \"#FF6692\", \"#B6E880\", \"#FF97FF\", \"#FECB52\"], \"font\": {\"color\": \"#2a3f5f\"}, \"geo\": {\"bgcolor\": \"white\", \"lakecolor\": \"white\", \"landcolor\": \"#E5ECF6\", \"showlakes\": true, \"showland\": true, \"subunitcolor\": \"white\"}, \"hoverlabel\": {\"align\": \"left\"}, \"hovermode\": \"closest\", \"mapbox\": {\"style\": \"light\"}, \"paper_bgcolor\": \"white\", \"plot_bgcolor\": \"#E5ECF6\", \"polar\": {\"angularaxis\": {\"gridcolor\": \"white\", \"linecolor\": \"white\", \"ticks\": \"\"}, \"bgcolor\": \"#E5ECF6\", \"radialaxis\": {\"gridcolor\": \"white\", \"linecolor\": \"white\", \"ticks\": \"\"}}, \"scene\": {\"xaxis\": {\"backgroundcolor\": \"#E5ECF6\", \"gridcolor\": \"white\", \"gridwidth\": 2, \"linecolor\": \"white\", \"showbackground\": true, \"ticks\": \"\", \"zerolinecolor\": \"white\"}, \"yaxis\": {\"backgroundcolor\": \"#E5ECF6\", \"gridcolor\": \"white\", \"gridwidth\": 2, \"linecolor\": \"white\", \"showbackground\": true, \"ticks\": \"\", \"zerolinecolor\": \"white\"}, \"zaxis\": {\"backgroundcolor\": \"#E5ECF6\", \"gridcolor\": \"white\", \"gridwidth\": 2, \"linecolor\": \"white\", \"showbackground\": true, \"ticks\": \"\", \"zerolinecolor\": \"white\"}}, \"shapedefaults\": {\"line\": {\"color\": \"#2a3f5f\"}}, \"ternary\": {\"aaxis\": {\"gridcolor\": \"white\", \"linecolor\": \"white\", \"ticks\": \"\"}, \"baxis\": {\"gridcolor\": \"white\", \"linecolor\": \"white\", \"ticks\": \"\"}, \"bgcolor\": \"#E5ECF6\", \"caxis\": {\"gridcolor\": \"white\", \"linecolor\": \"white\", \"ticks\": \"\"}}, \"title\": {\"x\": 0.05}, \"xaxis\": {\"automargin\": true, \"gridcolor\": \"white\", \"linecolor\": \"white\", \"ticks\": \"\", \"title\": {\"standoff\": 15}, \"zerolinecolor\": \"white\", \"zerolinewidth\": 2}, \"yaxis\": {\"automargin\": true, \"gridcolor\": \"white\", \"linecolor\": \"white\", \"ticks\": \"\", \"title\": {\"standoff\": 15}, \"zerolinecolor\": \"white\", \"zerolinewidth\": 2}}}, \"title\": {\"text\": \"Movies by Country <br> (countries with less than 4 movies are excluded)\", \"x\": 0.5, \"xanchor\": \"center\", \"y\": 0.96, \"yanchor\": \"top\"}},                        {\"responsive\": true}                    ).then(function(){\n",
       "                            \n",
       "var gd = document.getElementById('f85fbaa3-4f01-47c1-b244-b5f9a736e025');\n",
       "var x = new MutationObserver(function (mutations, observer) {{\n",
       "        var display = window.getComputedStyle(gd).display;\n",
       "        if (!display || display === 'none') {{\n",
       "            console.log([gd, 'removed!']);\n",
       "            Plotly.purge(gd);\n",
       "            observer.disconnect();\n",
       "        }}\n",
       "}});\n",
       "\n",
       "// Listen for the removal of the full notebook cells\n",
       "var notebookContainer = gd.closest('#notebook-container');\n",
       "if (notebookContainer) {{\n",
       "    x.observe(notebookContainer, {childList: true});\n",
       "}}\n",
       "\n",
       "// Listen for the clearing of the current output cell\n",
       "var outputEl = gd.closest('.output');\n",
       "if (outputEl) {{\n",
       "    x.observe(outputEl, {childList: true});\n",
       "}}\n",
       "\n",
       "                        })                };                });            </script>        </div>"
      ]
     },
     "metadata": {},
     "output_type": "display_data"
    }
   ],
   "source": [
    "######## MAP by count ##########\n",
    "\n",
    "# group by country\n",
    "tab_country=df['name'].groupby(df['country']).count()\n",
    "a=pd.DataFrame(tab_country)\n",
    "a = a.reset_index()\n",
    "a=a.rename(columns={'name':'count'})\n",
    "\n",
    "## map ##\n",
    "\n",
    "# fix UK (otherwise it will be coded as Ukraine !)\n",
    "a.loc[a.country=='UK','country']='England'\n",
    "# unfortunately, there is no seperate data for UK countries\n",
    "\n",
    "list_countries = a['country'].unique().tolist()\n",
    "# print(list_countries) # Uncomment to see list of countries\n",
    "d_country_code = {}  # To hold the country names and their ISO\n",
    "for country in list_countries:\n",
    "    try:\n",
    "        country_data = pycountry.countries.search_fuzzy(country)\n",
    "        # country_data is a list of objects of class pycountry.db.Country\n",
    "        # The first item  ie at index 0 of list is best fit\n",
    "        # object of class Country have an alpha_3 attribute\n",
    "        country_code = country_data[0].alpha_3\n",
    "        d_country_code.update({country: country_code})\n",
    "    except:\n",
    "        # print('could not add ISO 3 code for ->', country) # uncomment this print anywhere else, not in the notebook\n",
    "        # If could not find country, make ISO code ' '\n",
    "        d_country_code.update({country: ' '})\n",
    "        \n",
    "# there are 6 country names without ISO code, now we will fix them.\n",
    "# this 'fix' is just for map illustration, there is no political motivation behind it :)\n",
    "\n",
    "#Czechoslovakia\n",
    "a.loc[(a['country']=='Czechoslovakia'),'count']\n",
    "a.loc[(a['country']=='Czech Republic'),'count']=a.loc[(a['country']=='Czech Republic'),'count']+1\n",
    "a.loc[(a['country']=='Slovakia'),'count']=a.loc[(a['country']=='Slovakia'),'count']+1\n",
    "a.drop(a[a.country=='Czechoslovakia'].index,inplace=True)\n",
    "\n",
    "# Federal Republic of Yugoslavia and Yugoslavia\n",
    "int(a.loc[(a['country']=='Federal Republic of Yugoslavia'),'count'])+int(a.loc[(a['country']=='Yugoslavia'),'count'])\n",
    "a.loc[(a['country']=='Bosnia and Herzegovina'),'count']=a.loc[(a['country']=='Bosnia and Herzegovina'),'count']+4\n",
    "a.loc[(a['country']=='Croatia'),'count']=a.loc[(a['country']=='Croatia'),'count']+4\n",
    "a.loc[(a['country']=='Serbia'),'count']=a.loc[(a['country']=='Serbia'),'count']+4\n",
    "a.drop(a[a.country=='Federal Republic of Yugoslavia'].index,inplace=True)\n",
    "a.drop(a[a.country=='Yugoslavia'].index,inplace=True)\n",
    "\n",
    "# South Korea\n",
    "a.loc[a.country=='South Korea','country']='Korea, Republic of'\n",
    "\n",
    "#Soviet Union\n",
    "a.loc[(a['country']=='Russia'),'count']=a.loc[(a['country']=='Russia'),'count']+int(a.loc[(a['country']=='Soviet Union'),'count'])\n",
    "a.drop(a[a.country=='Soviet Union'].index,inplace=True)\n",
    "\n",
    "# West Germany\n",
    "a.loc[(a['country']=='Germany'),'count']=a.loc[(a['country']=='Germany'),'count']+int(a.loc[(a['country']=='West Germany'),'count'])\n",
    "a.drop(a[a.country=='West Germany'].index,inplace=True)\n",
    "\n",
    "# reset index\n",
    "a.reset_index(drop=True,inplace=True)\n",
    "\n",
    "\n",
    "# re-run the dictionary for codes\n",
    "\n",
    "list_countries = a['country'].unique().tolist()\n",
    "d_country_code = {}  # To hold the country names and their ISO\n",
    "for country in list_countries:\n",
    "    try:\n",
    "        country_data = pycountry.countries.search_fuzzy(country)\n",
    "        # country_data is a list of objects of class pycountry.db.Country\n",
    "        # The first item  ie at index 0 of list is best fit\n",
    "        # object of class Country have an alpha_3 attribute\n",
    "        country_code = country_data[0].alpha_3\n",
    "        d_country_code.update({country: country_code})\n",
    "    except:\n",
    "        # print('could not add ISO 3 code for ->', country)\n",
    "        # If could not find country, make ISO code ' '\n",
    "        d_country_code.update({country: ' '})\n",
    "\n",
    "# create a new column iso_alpha in the df\n",
    "# and fill it with appropriate iso 3 code\n",
    "for k, v in d_country_code.items():\n",
    "    a.loc[(a.country == k), 'iso_alpha'] = v\n",
    "\n",
    "# filter for countries with n movies or more\n",
    "n=4\n",
    "b=a[a['count']>=n]\n",
    "\n",
    "# these two lines are needed to show output map within the notebook\n",
    "\n",
    "from plotly.offline import init_notebook_mode\n",
    "init_notebook_mode(connected=True)\n",
    "\n",
    "fig = px.choropleth(data_frame = b,\n",
    "                    locations= \"iso_alpha\",\n",
    "                    color= \"count\",\n",
    "                    hover_name= \"country\",\n",
    "                    color_continuous_scale= 'Sunset')\n",
    "\n",
    "fig.update_layout(\n",
    "    title={\n",
    "        'text': 'Movies by Country <br> (countries with less than '+ str(n)+' movies are excluded)',\n",
    "        'y':.96,\n",
    "        'x':0.5,\n",
    "        'xanchor': 'center',\n",
    "        'yanchor': 'top'})\n",
    "\n"
   ]
  },
  {
   "cell_type": "code",
   "execution_count": 22,
   "metadata": {},
   "outputs": [
    {
     "data": {
      "image/png": "[encoded data removed]",
      "text/plain": [
       "<Figure size 432x288 with 1 Axes>"
      ]
     },
     "metadata": {
      "needs_background": "light"
     },
     "output_type": "display_data"
    }
   ],
   "source": [
    "####### Bar Plot of top countries ###########\n",
    "\n",
    "## bar plot ##\n",
    "\n",
    "# group scandinavian countries, as they mostly appear together \n",
    "count_scan=sum(a[a['country'].isin(['Denmark','Norway','Sweden'])]['count'])\n",
    "a.loc[a.shape[0]]=['Scandinavia',count_scan,'SCA']\n",
    "a.drop(a[a.country.isin(['Denmark','Norway','Sweden'])].index,inplace=True)\n",
    "a['perc']=round(a['count']/sum(a['count'])*100,1)\n",
    "b=a.sort_values(by='perc',ascending=False)\n",
    "\n",
    "# get top countries that account for 2% or more of all countries\n",
    "most_country=list(b.loc[b['perc']>=2,'country'])\n",
    "b=b[b.country.isin(most_country)]\n",
    "\n",
    "# switch back from England to UK\n",
    "b.loc[b.country=='England','country']='UK'\n",
    "\n",
    "# remove unnecessary cols\n",
    "b.drop(['count','iso_alpha'],axis=1,inplace=True)\n",
    "b.set_index('country',inplace=True)\n",
    "\n",
    "# pick tones of colors for different weights\n",
    "data_normalizer = Normalize()\n",
    "color_map = LinearSegmentedColormap( # only tones of green will be applied\n",
    "    \"my_map\",\n",
    "    { \n",
    "        \"green\": [(0, 1, 1.0),\n",
    "                (1.0, .5, .5)],\n",
    "\n",
    "        \"red\": [(0, 0, 0),\n",
    "                  (1.0, 0, 0)],\n",
    "\n",
    "        \"blue\": [(0, 0, 0),\n",
    "                 (1.0, 0, 0)]\n",
    "    }\n",
    "\n",
    ")\n",
    "\n",
    "# plot\n",
    "plt.bar(b.index,b.perc,\n",
    "        color=color_map(data_normalizer(b.perc)))\n",
    "\n",
    "plt.xticks(rotation=45, ha='right',\n",
    "           fontsize=12,fontweight='semibold')\n",
    "\n",
    "plt.gca().yaxis.set_major_formatter(PercentFormatter(xmax=100,\n",
    "                                                     decimals=0))\n",
    "\n",
    "plt.title(label='Movies by origin',\n",
    "             pad=12,\n",
    "             fontdict={'fontsize':22,'fontweight':'bold'})\n",
    "\n",
    "plt.show()                          \n",
    "plt.close()\n",
    "\n",
    "#plt.savefig('bar_country.png', dpi=200,bbox_inches = \"tight\")\n",
    "\n",
    "\n",
    "\n"
   ]
  },
  {
   "cell_type": "markdown",
   "metadata": {},
   "source": [
    "### 3.2 Genre"
   ]
  },
  {
   "cell_type": "code",
   "execution_count": 23,
   "metadata": {},
   "outputs": [
    {
     "data": {
      "image/png": "[encoded data removed]",
      "text/plain": [
       "<Figure size 432x288 with 1 Axes>"
      ]
     },
     "metadata": {},
     "output_type": "display_data"
    }
   ],
   "source": [
    "# group by genre\n",
    "tab_genre=df['name'].groupby(df['genres']).count()\n",
    "a=pd.DataFrame(tab_genre)\n",
    "a = a.reset_index()\n",
    "a=a.rename(columns={'name':'count'})\n",
    "\n",
    "# split multiple genres\n",
    "# example: if there are three genres as 'comedy', 'comedy_drama', and 'action'\n",
    "# then, 'comedy' will be 50%, 'drama' will be 25%, and 'action' will be 25%\n",
    "genlist=list()\n",
    "for i in range(df.shape[0]):\n",
    "    x=df.genres[i]\n",
    "    genlist.extend(x.split(\"_\"))\n",
    "genlist=list(set(genlist))\n",
    "\n",
    "genre_df= pd.DataFrame(columns=['count'])\n",
    "genre_df['genre']=genlist\n",
    "\n",
    "for i in range(len(genlist)):\n",
    "    genre_df.loc[i,'count']=sum(df['genres'].str.contains(genlist[i]))\n",
    "\n",
    "genre_df['share']=genre_df['count']/sum(genre_df['count'])\n",
    "genre_df.sort_values('share',ascending=False,inplace=True)\n",
    "\n",
    "# get top n and label others as 'Other'\n",
    "n=8\n",
    "topgen=list(genre_df.genre[:n])\n",
    "other_share=1-sum(genre_df.share[genre_df.genre.isin(topgen)])\n",
    "\n",
    "genre_df=genre_df[genre_df.genre.isin(topgen)]\n",
    "genre_df=genre_df.reset_index(drop=True)\n",
    "genre_df.loc[genre_df.shape[0]]=[1,'other',other_share] # count is not important\n",
    "\n",
    "\n",
    "# pie chart\n",
    "\n",
    "genre_df.set_index(genre_df.genre,drop=True,inplace=True)\n",
    "group_names = list(genre_df.index)\n",
    "\n",
    "counts = genre_df.share\n",
    "\n",
    "counts=counts.sort_values(ascending=False)\n",
    "\n",
    "explist=[0,0,0,.2,.25,.3,.33,.36,.4]\n",
    "\n",
    "colors = ['#191970', '#EE82EE','#E6E6FA',\n",
    "          '#0071C6', '#008DB8','#00AAAA',\n",
    "          '#00C69C', '#00E28E', '#00FF80']\n",
    "\n",
    "counts.plot(kind='pie', \n",
    "            fontsize=15, \n",
    "            colors=colors, \n",
    "            explode=explist)\n",
    "\n",
    "plt.title(\"Movies by genre\",\n",
    "           fontdict={'fontsize':22,'fontweight':'bold'})\n",
    "plt.ylabel(\"\")\n",
    "\n",
    "#plt.savefig('pie_genre.png', dpi=200,bbox_inches = \"tight\")\n",
    "\n",
    "plt.show()\n",
    "plt.close()\n",
    "\n"
   ]
  },
  {
   "cell_type": "markdown",
   "metadata": {},
   "source": [
    "### 3.3 Director"
   ]
  },
  {
   "cell_type": "code",
   "execution_count": 10,
   "metadata": {},
   "outputs": [
    {
     "data": {
      "image/png": "[encoded data removed]",
      "text/plain": [
       "<Figure size 432x288 with 1 Axes>"
      ]
     },
     "metadata": {
      "needs_background": "light"
     },
     "output_type": "display_data"
    }
   ],
   "source": [
    "# group by director\n",
    "tab_dir=df['name'].groupby(df['director']).count()\n",
    "a=pd.DataFrame(tab_dir)\n",
    "a = a.reset_index()\n",
    "a=a.rename(columns={'name':'count'})\n",
    "\n",
    "# adjust for coen brothers\n",
    "tot=int(a.loc[(a['director']=='Ethan Coen'),'count'])+int(a.loc[(a['director']=='Joel Coen'),'count'])\n",
    "a.loc[a.shape[0]]=['Coen brothers',tot]\n",
    "a.drop(a[a.director.isin(['Ethan Coen','Joel Coen'])].index,inplace=True)\n",
    "\n",
    "# pick directors with at least n movies\n",
    "n=8\n",
    "b=a.drop(a[a['count']<n].index)\n",
    "b.set_index('director',inplace=True)\n",
    "\n",
    "b.sort_values(by='count',inplace=True,ascending=True)\n",
    "\n",
    "ax=b.plot.barh(color='purple')\n",
    "ax.set_xlabel(xlabel=\"Number of movies\",\n",
    "              labelpad=16,\n",
    "              fontdict={'fontsize':17})\n",
    "\n",
    "ax.get_legend().remove()\n",
    "\n",
    "ax.set_xlim(left=7)\n",
    "\n",
    "ax.set_ylabel(ylabel=\"Director Name\",\n",
    "              labelpad=16,\n",
    "              fontdict={'fontsize':17})\n",
    "ax.set_title(label='Movies by director',\n",
    "             pad=12,\n",
    "             fontdict={'fontsize':22,'fontweight':'bold'})\n",
    "\n",
    "fig = ax.get_figure()\n",
    "\n",
    "#fig.savefig('bar_director.png', dpi=200,bbox_inches = \"tight\")\n"
   ]
  },
  {
   "cell_type": "markdown",
   "metadata": {},
   "source": [
    "### 3.4 Duration"
   ]
  },
  {
   "cell_type": "code",
   "execution_count": 12,
   "metadata": {},
   "outputs": [
    {
     "data": {
      "image/png": "[encoded data removed]",
      "text/plain": [
       "<Figure size 432x288 with 1 Axes>"
      ]
     },
     "metadata": {
      "needs_background": "light"
     },
     "output_type": "display_data"
    }
   ],
   "source": [
    "# duration intervals\n",
    "durbin=np.array([30,60,70,80,85,90,95,100,105,\n",
    "                 110,120,130,140,150,160,180,200,240,300,400])\n",
    "plt.hist(df.duration,bins=durbin)\n",
    "plt.xlabel(\"Duration (in minutes)\",fontsize=14,fontweight='semibold')\n",
    "plt.ylabel(\"Number of movies\",fontsize=14,fontweight='semibold')\n",
    "plt.title(\"Movies by duration\",fontsize=18,fontweight='bold')\n",
    "plt.xticks(fontsize=12)\n",
    "plt.yticks(fontsize=12)\n",
    "\n",
    "# legend\n",
    "me=round(np.mean(df.duration))\n",
    "md=round(np.median(df.duration))\n",
    "\n",
    "#create legend with empty handles\n",
    "r = Rectangle((0,0), 1, 1, fill=False, edgecolor='none',\n",
    "                                 visible=False)\n",
    "labels=['Mean duration: '+str(me)+' min','Median duration: '+str(md)+' min']\n",
    "plt.legend([r,r], labels,frameon=False,fontsize=14)\n",
    "\n",
    "plt.show()\n",
    "plt.close()\n",
    "\n",
    "#plt.savefig('hist_duration.png', dpi=200,bbox_inches = \"tight\")\n",
    "\n"
   ]
  },
  {
   "cell_type": "markdown",
   "metadata": {},
   "source": [
    "### 3.5 Rating"
   ]
  },
  {
   "cell_type": "markdown",
   "metadata": {},
   "source": [
    "Ratings (both IMDb and mine) are the most important attributes in the data, as my main aim is to build a model to predict my future rating for movies. So, this section will include more visuals than previous ones."
   ]
  },
  {
   "cell_type": "code",
   "execution_count": 24,
   "metadata": {},
   "outputs": [
    {
     "data": {
      "image/png": "[encoded data removed]",
      "text/plain": [
       "<Figure size 432x288 with 1 Axes>"
      ]
     },
     "metadata": {
      "needs_background": "light"
     },
     "output_type": "display_data"
    }
   ],
   "source": [
    "### My rating vs IMDb rating ###\n",
    "\n",
    "# plot overlapping histogram\n",
    "plt.hist(df.rating_my, alpha=0.4, label=\"My rating\",color='orange')\n",
    "plt.hist(df.rating_imdb, alpha=0.4, label=\"IMDB rating\",color='blue')\n",
    "\n",
    "# add labels and title\n",
    "plt.xlabel(\"Rating\\n(out of 10)\",fontsize=14,fontweight='semibold')\n",
    "plt.ylabel(\"Number of movies\",fontsize=14,fontweight='semibold')\n",
    "plt.title(\"My rating vs IMDb rating\",fontsize=18,fontweight='bold')\n",
    "\n",
    "# add first legend\n",
    "plt.gca().add_artist(plt.legend(loc='upper right',\n",
    "                                fontsize=9))\n",
    "\n",
    "\n",
    "# add second legend\n",
    "labels=['Mean: '+str(round(np.mean(df.rating_my),1)),\n",
    "        'Mean: '+str(round(np.mean(df.rating_imdb),1)),\n",
    "        'StDev: '+str(round(np.std(df.rating_my),1)),\n",
    "        'StDev: '+str(round(np.std(df.rating_imdb),1))]\n",
    "\n",
    "leg=plt.gca().add_artist(plt.legend(labels,\n",
    "                                frameon=False,\n",
    "                                fontsize=9,\n",
    "                                ncol=2))\n",
    "for lh in leg.legendHandles: \n",
    "    lh.set_alpha(.2)\n",
    "\n",
    "plt.show()\n",
    "plt.close()\n",
    "    \n",
    "#plt.savefig('hist_ratings.png', dpi=200,bbox_inches = \"tight\")\n"
   ]
  },
  {
   "cell_type": "code",
   "execution_count": 51,
   "metadata": {},
   "outputs": [
    {
     "data": {
      "image/png": "[encoded data removed]",
      "text/plain": [
       "<Figure size 432x288 with 1 Axes>"
      ]
     },
     "metadata": {
      "needs_background": "light"
     },
     "output_type": "display_data"
    }
   ],
   "source": [
    "### Ratings by genre ###\n",
    "\n",
    "# Note: genres here are in the original format (i.e. 'comedy_drama_action'), not seperated!\n",
    "\n",
    "# group by genre\n",
    "tab_genre=df['name'].groupby(df['genres']).count()\n",
    "a=pd.DataFrame(tab_genre)\n",
    "a.reset_index(inplace=True)\n",
    "a=a.rename(columns={'name':'count'})\n",
    "a['perc']=a['count']/sum(a['count'])*100\n",
    "\n",
    "\n",
    "# get top n genres by percentage\n",
    "n=7\n",
    "a.sort_values(by='perc',ascending=False,inplace=True)\n",
    "b=a.iloc[:n,:]\n",
    "b.reset_index(inplace=True,drop=True)\n",
    "\n",
    "temp=df.loc[df.genres.isin(b.genres)]\n",
    "rating_genre=pd.DataFrame(temp[['rating_my','rating_imdb']].groupby(temp['genres']).mean())\n",
    "rating_genre.reset_index(inplace=True)\n",
    "b=b.merge(rating_genre)\n",
    "\n",
    "\n",
    "# scatter plot\n",
    "colorlist=['#1f77b4', '#ff7f0e', '#2ca02c', \n",
    "               '#d62728', '#9467bd', '#8c564b', \n",
    "               '#e377c2']\n",
    "\n",
    "plt.scatter(b.rating_imdb,b.rating_my,\n",
    "            s=b.perc*20,\n",
    "            c=colorlist)\n",
    "\n",
    "plt.xlim(5.5,8.5)\n",
    "plt.ylim(5.5,8.5)\n",
    "\n",
    "# add 45 degree line\n",
    "x=np.arange(5.5,8.5,.01)\n",
    "plt.plot(x,x,color='black',linestyle='dashed')\n",
    "\n",
    "# add labels\n",
    "plt.xlabel(\"Average IMDB rating\",fontsize=14,fontweight='semibold')\n",
    "plt.ylabel(\"Average my rating\",fontsize=14,fontweight='semibold')\n",
    "\n",
    "# add title\n",
    "plt.title(\"IMDB rating vs my rating - by genre\\n\\n\",\n",
    "          fontsize=18,fontweight='bold')\n",
    "\n",
    "# add second line of title\n",
    "plt.suptitle('\\n(point sizes denote frequency)', fontsize=12)\n",
    "\n",
    "# add legend\n",
    "leg_hand=list()\n",
    "for i in range(b.shape[0]):\n",
    "    leg_hand.append(mlines.Line2D([], [], color=colorlist[i], marker='o', ls='', label=b.genres[i]))\n",
    "\n",
    "plt.legend(handles=leg_hand,loc='upper left')\n",
    "plt.show()\n",
    "plt.close()\n",
    "\n",
    "#plt.savefig('scatter_ratingbygenre.png', dpi=200,bbox_inches = \"tight\")"
   ]
  },
  {
   "cell_type": "code",
   "execution_count": 25,
   "metadata": {},
   "outputs": [
    {
     "data": {
      "image/png": "[encoded data removed]",
      "text/plain": [
       "<Figure size 432x288 with 1 Axes>"
      ]
     },
     "metadata": {
      "needs_background": "light"
     },
     "output_type": "display_data"
    }
   ],
   "source": [
    "### Ratings by country group ###\n",
    "\n",
    "# group by country\n",
    "tab_country=df['name'].groupby(df['country']).count()\n",
    "a=pd.DataFrame(tab_country)\n",
    "a.reset_index(inplace=True)\n",
    "a=a.rename(columns={'name':'count'})\n",
    "\n",
    "# adjust Scandinavia\n",
    "count_scan=sum(a[a['country'].isin(['Denmark','Norway','Sweden'])]['count'])\n",
    "a.loc[a.shape[0]]=['Scandinavia',count_scan]\n",
    "a.drop(a[a.country.isin(['Denmark','Norway','Sweden'])].index,inplace=True)\n",
    "\n",
    "# calculate percentage\n",
    "a['perc']=a['count']/sum(a['count'])*100\n",
    "a.sort_values(by='perc',ascending=False,inplace=True)\n",
    "a.reset_index(inplace=True)\n",
    "\n",
    "pd.set_option('mode.chained_assignment', None) # to supress irregular warning!\n",
    "\n",
    "# get top n and label others as 'Other'\n",
    "n=10\n",
    "a.sort_values(by='perc',ascending=False,inplace=True)\n",
    "b=a.iloc[:n,:]\n",
    "b.reset_index(inplace=True,drop=True)\n",
    "\n",
    "temp=df.loc[df.country.isin(list(b.country)+['Denmark','Norway','Sweden'])]\n",
    "\n",
    "temp.loc[temp.country.isin(['Denmark','Norway','Sweden']),'country']='Scandinavia'\n",
    "\n",
    "rating_country=pd.DataFrame(temp[['rating_my','rating_imdb']].groupby(temp['country']).mean())\n",
    "rating_country.reset_index(inplace=True)\n",
    "b=b.merge(rating_country)\n",
    "\n",
    "\n",
    "# scatter plot\n",
    "\n",
    "colorlist=['#1f77b4', '#ff7f0e', '#2ca02c', \n",
    "               '#d62728', '#9467bd', '#8c564b', \n",
    "               '#e377c2', '#7f7f7f','#00C69C', '#00FF80']\n",
    "\n",
    "plt.scatter(b.rating_imdb,b.rating_my,\n",
    "            s=b.perc*30,\n",
    "            c=colorlist)\n",
    "\n",
    "plt.xlim(6.5,8.2)\n",
    "plt.ylim(6.5,8.2)\n",
    "\n",
    "x=np.arange(6.5,8.5,.01)\n",
    "\n",
    "plt.plot(x,x,color='black',linestyle='dashed')\n",
    "\n",
    "plt.xlabel(\"Average IMDB rating\",fontsize=14,fontweight='semibold')\n",
    "plt.ylabel(\"Average my rating\",fontsize=14,fontweight='semibold')\n",
    "\n",
    "plt.title(\"IMDB rating vs my rating - by country group\\n\\n\",\n",
    "          fontsize=18,fontweight='bold')\n",
    "\n",
    "plt.suptitle('\\n(point sizes denote frequency)', fontsize=12)\n",
    "\n",
    "leg_hand=list()\n",
    "for i in range(b.shape[0]):\n",
    "    leg_hand.append(mlines.Line2D([], [], color=colorlist[i], marker='o', ls='', label=b.country[i]))\n",
    "\n",
    "\n",
    "plt.legend(handles=leg_hand,loc='upper left')\n",
    "plt.show()\n",
    "plt.close()\n",
    "# plt.savefig('scatter_ratingbycountry.png', dpi=200,bbox_inches = \"tight\")\n"
   ]
  },
  {
   "cell_type": "code",
   "execution_count": 70,
   "metadata": {},
   "outputs": [
    {
     "data": {
      "text/html": [
       "\n",
       "<style>\n",
       ".output {\n",
       "    display: flex;\n",
       "    align-items: center;\n",
       "    text-align: center;\n",
       "}\n",
       "</style>\n"
      ],
      "text/plain": [
       "<IPython.core.display.HTML object>"
      ]
     },
     "metadata": {},
     "output_type": "display_data"
    },
    {
     "data": {
      "image/png": "[encoded data removed]",
      "text/plain": [
       "<Figure size 432x288 with 2 Axes>"
      ]
     },
     "metadata": {
      "needs_background": "light"
     },
     "output_type": "display_data"
    }
   ],
   "source": [
    "### My rating by release year ###\n",
    "\n",
    "# this part is needed to center plots\n",
    "display(HTML(\"\"\"\n",
    "<style>\n",
    ".output {\n",
    "    display: flex;\n",
    "    align-items: center;\n",
    "    text-align: center;\n",
    "}\n",
    "</style>\n",
    "\"\"\"))\n",
    "\n",
    "# create bins\n",
    "bins=np.array(1900)\n",
    "bins=np.append(bins,np.arange(1970,2020,10))\n",
    "bins=np.append(bins,2022)\n",
    "\n",
    "# group by year\n",
    "tab_count=df['name'].groupby(pd.cut(df['year'], bins,right=False)).count()\n",
    "tab_rating=df['rating_my'].groupby(pd.cut(df['year'], bins,right=False)).mean()\n",
    "\n",
    "y=list(tab_count.index.astype(str))\n",
    "x1=tab_count.values\n",
    "x2=tab_rating.values\n",
    "\n",
    "fig, axes = plt.subplots(ncols=2, sharey=True)\n",
    "axes[0].barh(y, x1, align='center', color='lightblue')\n",
    "axes[1].barh(y, x2, align='center', color='lightgreen')\n",
    "axes[1].set_xlim(6,8.4)\n",
    "\n",
    "axes[0].set_xlabel(\"Number of movies\")\n",
    "axes[1].set_xlabel(\"My average rating\")\n",
    "\n",
    "axes[0].invert_xaxis()\n",
    "axes[0].set(yticks=y, yticklabels=y)\n",
    "axes[0].yaxis.tick_right()\n",
    "fig.tight_layout(rect=[0, 0.03, 1, 0.95])\n",
    "fig.subplots_adjust(wspace=0.46)\n",
    "\n",
    "fig.suptitle(\"Movies and my average rating - by release year\",\n",
    "             fontsize=14,\n",
    "             fontweight='bold')\n",
    "\n",
    "rects = axes[1].patches\n",
    "\n",
    "# For each bar: Place a label\n",
    "for rect in rects:\n",
    "    # Get X and Y placement of label from rect.\n",
    "    x_value = rect.get_width()\n",
    "    y_value = rect.get_y() + rect.get_height() / 2\n",
    "\n",
    "    # Number of points between bar and label. Change to your liking.\n",
    "    space = 5\n",
    "    # Vertical alignment for positive values\n",
    "    ha = 'left'\n",
    "\n",
    "    # If value of bar is negative: Place label left of bar\n",
    "    if x_value < 0:\n",
    "        # Invert space to place label to the left\n",
    "        space *= -1\n",
    "        # Horizontally align label at right\n",
    "        ha = 'right'\n",
    "\n",
    "    # Use X value as label and format number with one decimal place\n",
    "    label = \"{:.1f}\".format(x_value)\n",
    "\n",
    "    # Create annotation\n",
    "    plt.annotate(\n",
    "        label,                      # Use `label` as label\n",
    "        (x_value, y_value),         # Place label at end of the bar\n",
    "        xytext=(space, 0),          # Horizontally shift label by `space`\n",
    "        textcoords=\"offset points\", # Interpret `xytext` as offset in points\n",
    "        va='center',                # Vertically center label\n",
    "        ha=ha)                      # Horizontally align label differently for\n",
    "                                    # positive and negative values.\n",
    "\n",
    "plt.show()\n",
    "plt.close()\n",
    "\n",
    "#plt.savefig('hbar2_ratingbyyear.png', dpi=200,bbox_inches = \"tight\")"
   ]
  },
  {
   "cell_type": "markdown",
   "metadata": {},
   "source": [
    "## 4. Modeling"
   ]
  },
  {
   "cell_type": "markdown",
   "metadata": {},
   "source": [
    "The first section includes encoding for categorical variables, and then splitting data into train and test sets. Then I will train three machine learning models, with 4-fold cross-validation. Finally, in the last section, I will present the results, pick the best model, and then train the best model on whole data set."
   ]
  },
  {
   "cell_type": "markdown",
   "metadata": {},
   "source": [
    "### 4.1 Group features and organize data to feed ML models"
   ]
  },
  {
   "cell_type": "code",
   "execution_count": 6,
   "metadata": {},
   "outputs": [],
   "source": [
    "### Year\n",
    "\n",
    "# different bins than previous (to decrease number of features)\n",
    "bins_year=np.array(1900)\n",
    "bins_year=np.append(bins_year,np.arange(1970,2020,10))\n",
    "bins_year=np.append(bins_year,2022)\n",
    "names_year = ['before70','70s','80s','90s','2000s','2010s']\n",
    "\n",
    "\n",
    "### Country\n",
    "\n",
    "# group by country\n",
    "tab_country=df['name'].groupby(df['country']).count()\n",
    "a=pd.DataFrame(tab_country)\n",
    "a.reset_index(inplace=True)\n",
    "a=a.rename(columns={'name':'count'})\n",
    "\n",
    "# adjust Scandinavia, as they appear together mostly\n",
    "count_scan=sum(a[a['country'].isin(['Denmark','Norway','Sweden'])]['count'])\n",
    "a.loc[a.shape[0]]=['Scandinavia',count_scan]\n",
    "a.drop(a[a.country.isin(['Denmark','Norway','Sweden'])].index,inplace=True)\n",
    "\n",
    "# get top n and label others as 'Other'\n",
    "n=6\n",
    "a.sort_values(by='count',ascending=False,inplace=True)\n",
    "tops=list(a.country[:n])\n",
    "others=list(set(a.country)-set(tops))\n",
    "sc=['Denmark','Norway','Sweden'] # is part of tops\n",
    "\n",
    "# mapping for country\n",
    "cmapping1 = {i:i for i in [t for t in tops if t != 'Scandinavia']}\n",
    "cmapping2={i:'Scandinavia' for i in sc}\n",
    "cmapping3 = {i:'other_country' for i in others}\n",
    "mapping_country = {**cmapping1, **cmapping2,**cmapping3}\n",
    "\n",
    "\n",
    "### Genres\n",
    "\n",
    "# group by genre\n",
    "tab_genres=df['name'].groupby(df['genres']).count()\n",
    "a=pd.DataFrame(tab_genres)\n",
    "a.reset_index(inplace=True)\n",
    "a=a.rename(columns={'name':'count'})\n",
    "a.sort_values(by='count',ascending=False,inplace=True)\n",
    "\n",
    "# get top n and label others as 'Other'\n",
    "n=9\n",
    "tops=list(a.genres[:n])\n",
    "others=list(set(a.genres)-set(tops))\n",
    "\n",
    "# mapping for genre\n",
    "cmapping1 = {i:i for i in tops}\n",
    "cmapping2 = {i:'other_genre' for i in others}\n",
    "mapping_genre = {**cmapping1, **cmapping2}\n",
    "\n",
    "\n",
    "\n",
    "#### Create ML data (see appendix for function defintion)\n",
    "\n",
    "anydf=df.copy()\n",
    "mldf=F_df_to_ml(anydf,\n",
    "                mapping_country,\n",
    "                mapping_genre,\n",
    "                bins_year,\n",
    "                names_year)\n",
    "\n",
    "Y=mldf.rating_my # target values\n",
    "X=mldf.drop('rating_my', axis=1) # feature matrix\n",
    "\n",
    "# train test split\n",
    "x_train, x_test, y_train, y_test = train_test_split(X, Y, test_size=0.2, random_state=3006)\n",
    "\n",
    "# we may need this order if XGB is chosen as the best model\n",
    "testcol_order=list(x_test.columns)"
   ]
  },
  {
   "cell_type": "markdown",
   "metadata": {},
   "source": [
    "### 4.2  Train ML models"
   ]
  },
  {
   "cell_type": "code",
   "execution_count": 7,
   "metadata": {},
   "outputs": [],
   "source": [
    "numfeat=x_train.shape[1] # number of features\n",
    "cv_nfold=4 # number of folds for cross validation\n",
    "\n",
    "### Random Forest Regressor ###\n",
    "\n",
    "# Create the random grid\n",
    "random_grid = {'n_estimators': [int(x) for x in np.linspace(start = 400, stop = 800, num = 30)],\n",
    "               'max_features': [int(x) for x in np.linspace(start = numfeat/6, stop = numfeat/2, num = 8)],\n",
    "               'max_depth':  [x*2 for x in range(2,7)],\n",
    "               'min_samples_split': [x for x in range(3,7)],\n",
    "               'min_samples_leaf': [x for x in range(3,7)]}\n",
    "\n",
    "\n",
    "# First create the base model to tune\n",
    "rf_reg = RandomForestRegressor(random_state = 1903)\n",
    "\n",
    "# Randomized search\n",
    "rf_cv = RandomizedSearchCV(estimator = rf_reg, \n",
    "                               param_distributions = random_grid,\n",
    "                               n_iter = 150, \n",
    "                               cv = cv_nfold, \n",
    "                               verbose=0, # silent\n",
    "                               n_jobs = -1, # use all processors (causes fans to make noise!)\n",
    "                               scoring='neg_mean_squared_error',\n",
    "                               random_state=1001)\n",
    "\n",
    "# Fit the model\n",
    "rf_cv.fit(x_train, y_train)\n",
    "\n",
    "# if you would like to see best parameters selected\n",
    "# rf_cv.best_params_\n",
    "\n",
    "# predict\n",
    "y_pred = np.round(rf_cv.predict(x_test),1)\n",
    "mse_rf = round((mean_squared_error(y_test, y_pred)),3) # getting score\n",
    "\n",
    "\n",
    "#####################\n",
    "\n",
    "\n",
    "### XGB Regressor ###\n",
    "\n",
    "random_grid={'eta':[x for x in np.linspace(.02,.3,num=20)],\n",
    "        'min_child_weight':[i for i in range(2,6)], \n",
    "        'gamma':[i/10.0 for i in range(2,20)],  \n",
    "        'subsample':[i/10.0 for i in range(6,11)],\n",
    "        'colsample_bytree':[i/10.0 for i in range(6,11)], \n",
    "        'max_depth': [i*2 for i in range(2,7)]}\n",
    "\n",
    "xg_reg = xgb.XGBRegressor(random_state=808)\n",
    "\n",
    "xgb_cv =  RandomizedSearchCV(estimator = xg_reg, \n",
    "                               param_distributions = random_grid,\n",
    "                               n_iter = 150, \n",
    "                               cv = cv_nfold, \n",
    "                               verbose=0, # silent\n",
    "                               n_jobs = -1, # use all processors (causes fans to make noise!)\n",
    "                               scoring='neg_mean_squared_error',\n",
    "                               random_state=1001)\n",
    "\n",
    "xgb_cv.fit(x_train,y_train)\n",
    "\n",
    "# if you would like to see best parameters selected\n",
    "# xgb_cv.best_params_\n",
    "\n",
    "y_pred = xgb_cv.predict(x_test) #predict\n",
    "\n",
    "mse_xgb = round((mean_squared_error(y_test, y_pred)),3) # getting score"
   ]
  },
  {
   "cell_type": "markdown",
   "metadata": {},
   "source": [
    "### 4.3 The best model"
   ]
  },
  {
   "cell_type": "code",
   "execution_count": 15,
   "metadata": {},
   "outputs": [
    {
     "name": "stdout",
     "output_type": "stream",
     "text": [
      "Random Forest MSE: 1.967\n",
      "XGB MSE: 1.961\n",
      "So, the best model is  XGB\n"
     ]
    }
   ],
   "source": [
    "print(\"Random Forest MSE:\",mse_rf)\n",
    "print(\"XGB MSE:\",mse_xgb)\n",
    "\n",
    "if(mse_rf<=mse_xgb):\n",
    "    best_model=rf_cv\n",
    "    bestML=\"Random Forest\"\n",
    "else:\n",
    "    best_model=xgb_cv\n",
    "    bestML=\"XGB\"\n",
    "\n",
    "print(\"So, the best model is \",bestML)\n",
    "\n",
    "# train best model on whole data set\n",
    "best_model.fit(X,Y)\n",
    "\n",
    "\n",
    "# save the best model\n",
    "f = open('best_model.sav', 'wb')\n",
    "pickle.dump(best_model, f)\n",
    "f.close() # do NOT forget to close (otherwise you will have problems)\n",
    "\n",
    "# save other variables needed to predict new data\n",
    "f = open('obj.pkl', 'wb')\n",
    "pickle.dump([mapping_country,\n",
    "                mapping_genre,\n",
    "                bins_year,\n",
    "                names_year,\n",
    "                testcol_order],f)\n",
    "f.close()"
   ]
  },
  {
   "cell_type": "markdown",
   "metadata": {},
   "source": [
    "## 5. Demo"
   ]
  },
  {
   "cell_type": "markdown",
   "metadata": {},
   "source": [
    "Ok, now we come to the fun part :) I will feed our model with IMDb link for any movie, and it will tell me whether or not I will like the movie."
   ]
  },
  {
   "cell_type": "code",
   "execution_count": 16,
   "metadata": {},
   "outputs": [
    {
     "name": "stdout",
     "output_type": "stream",
     "text": [
      "Your rating is 8.1 \n",
      "You will DEFINITELY like this movie!\n"
     ]
    }
   ],
   "source": [
    "# load the model from disk\n",
    "f = open('best_model.sav', 'rb')\n",
    "loaded_model = pickle.load(f)\n",
    "f.close()\n",
    "\n",
    "# load objects\n",
    "f = open('obj.pkl', 'rb')\n",
    "obj1, obj2, obj3, obj4, obj5 = pickle.load(f)\n",
    "f.close()\n",
    "\n",
    "# I look forward to seeing this movie actually\n",
    "imdb_link='https://www.imdb.com/title/tt11655202'\n",
    "\n",
    "# extract features from IMDb website\n",
    "newdf=F_imdb_to_df(imdb_link)\n",
    "\n",
    "# create data for ML\n",
    "anydf=newdf.copy()\n",
    "new_test=F_df_to_ml(anydf,obj1, obj2, obj3, obj4, obj5)\n",
    "\n",
    "# predict my rating\n",
    "new_rating=round(loaded_model.predict(new_test)[0],1)\n",
    "\n",
    "if 8<=new_rating<=10:\n",
    "    likefilm=\"DEFINITELY\"\n",
    "elif (7<=new_rating<8):\n",
    "    likefilm=\"MOST PROBABLY\"\n",
    "elif (6<=new_rating<7):\n",
    "    likefilm=\"MAYBE\"\n",
    "elif (4<=new_rating<6):\n",
    "    likefilm=\"NOT\"\n",
    "else:\n",
    "    likefilm=\"DEFINITELY NOT\"\n",
    "\n",
    "print(\"Your rating is\",str(new_rating),\"\\nYou will \"+likefilm+\" like this movie!\")\n",
    "\n"
   ]
  },
  {
   "cell_type": "markdown",
   "metadata": {},
   "source": [
    "Well, it works!!"
   ]
  },
  {
   "cell_type": "markdown",
   "metadata": {},
   "source": [
    "## Appendix A: User defined modules"
   ]
  },
  {
   "cell_type": "code",
   "execution_count": 13,
   "metadata": {},
   "outputs": [],
   "source": [
    "def F_imdb_to_df(IMDb_URLs):\n",
    "    \n",
    "    \n",
    "    \"\"\"\n",
    "    This function receives IMDb link(s) (either only one as a string or multiple as a series)\n",
    "    And then scrapes IMDb website to extract featues of the movie(s)\n",
    "    \"\"\"\n",
    "    \n",
    "    import pandas as pd\n",
    "    from urllib.request import urlopen\n",
    "        \n",
    "    colnames=['country',\n",
    "              'director',\n",
    "              'year',\n",
    "              'genres',\n",
    "              'rating_imdb',\n",
    "              'duration']\n",
    "    \n",
    "       \n",
    "    df= pd.DataFrame(columns=colnames)\n",
    "    \n",
    "    if(type(IMDb_URLs)==str):\n",
    "        IMDb_URLs=[IMDb_URLs]\n",
    "        \n",
    "    df['imdb_url']=IMDb_URLs\n",
    " \n",
    "    \n",
    "    for i in range(df.shape[0]):\n",
    "        \n",
    "        # open imdb url\n",
    "        imdb_link=df.loc[i,'imdb_url']\n",
    "        f = urlopen(imdb_link)\n",
    "        myfile = f.read()\n",
    "        a=str(myfile,encoding='utf-8')\n",
    "        \n",
    "        # close connection and delete related variables\n",
    "        f.close()\n",
    "        del myfile, f, imdb_link\n",
    "          \n",
    "        # only the first country\n",
    "        check_str='country_of_origin'\n",
    "        st=a.find(check_str) \n",
    "        if(st!=-1):\n",
    "            ed1=a.find(\">\",st+len(check_str))\n",
    "            ed2=a.find(\"<\",ed1)\n",
    "            df.loc[i,'country']=a[(ed1+1):ed2]\n",
    "        \n",
    "        \n",
    "        # only the first director\n",
    "        check_str='\"director\": {'\n",
    "        st=a.find(check_str)\n",
    "        if(st==-1): # if there are more than one director, pattern will be different\n",
    "            check_str='\"director\": ['\n",
    "            st=a.find(check_str)\n",
    "        \n",
    "        if(st!=-1):\n",
    "            ed1=a.find('\"name\": \"',st+len(check_str))\n",
    "            ed2=a.find('\"',ed1+9)\n",
    "            df.loc[i,'director']=a[ed1+9:ed2]\n",
    "        \n",
    "        # year\n",
    "        check_str='\"titleYear\"'\n",
    "        st=a.find(check_str)\n",
    "        if(st!=-1):\n",
    "            ed1=a.find('year',st+len(check_str)+1)\n",
    "            df.loc[i,'year']=int(a[ed1+5:ed1+9])\n",
    "        \n",
    "        # genres (only first three genres)\n",
    "        all_genre=list()\n",
    "        check_str='title?genres'\n",
    "        st=a.find(check_str)\n",
    "        if(st!=-1):\n",
    "            ed=a.find('&',st+len(check_str)+1)\n",
    "            all_genre.append(a[(st+len(check_str)+1):ed])\n",
    "            st2=a.find('title?genres',ed,ed+100)\n",
    "            if(st2!=-1):\n",
    "                 ed2=a.find('&',st2+len(check_str)+1)\n",
    "                 all_genre.append(a[(st2+len(check_str)+1):ed2])\n",
    "                 st3=a.find('title?genres',ed2,ed2+100)\n",
    "                 if(st3!=-1):\n",
    "                     ed3=a.find('&',st3+len(check_str)+1)\n",
    "                     all_genre.append(a[(st3+len(check_str)+1):ed3])\n",
    "            \n",
    "        all_genre.sort()\n",
    "        df.loc[i,'genres']='_'.join(all_genre) \n",
    "        \n",
    "        \n",
    "        # imdb rating\n",
    "        check_str='span class=\"rating\">'\n",
    "        st=a.find(check_str)\n",
    "        ed=a.find('<',st+len(check_str))\n",
    "        if(st!=-1):\n",
    "            df.loc[i,'rating_imdb']=float(a[st+len(check_str):ed])\n",
    "            \n",
    "        # duration\n",
    "        check_str='duration'\n",
    "        st=a.find(check_str) \n",
    "        if(st!=-1):\n",
    "            ed1=a.find('\"PT' ,st+len(check_str))\n",
    "            ed2=a.find(\"H\",ed1,ed1+10)\n",
    "            if(ed2!=-1):\n",
    "                ed3=a.find(\"M\",ed1,ed1+10)\n",
    "                if(ed3!=-1): # both hour and minute\n",
    "                    dur_str=a[ed1+3:ed3]\n",
    "                    df.loc[i,'duration']=int(dur_str[0])*60+int(dur_str[2:])\n",
    "                else: # no minute\n",
    "                    df.loc[i,'duration']=int(a[ed2-1])*60\n",
    "            else: # no hour\n",
    "                df.loc[i,'duration']=int(a[ed1+3:ed1+5])\n",
    "                \n",
    "\n",
    "    df.duration=df.duration.astype(float)\n",
    "    df.rating_imdb=df.rating_imdb.astype(float)\n",
    "    df.year=df.year.astype(float)\n",
    "\n",
    "    return(df)\n",
    "    \n",
    "    #### \n",
    " "
   ]
  },
  {
   "cell_type": "code",
   "execution_count": 14,
   "metadata": {},
   "outputs": [],
   "source": [
    "def F_df_to_ml(anydf,\n",
    "               mapping_country,\n",
    "               mapping_genre,\n",
    "               bins_year,\n",
    "               names_year,\n",
    "               col_order=None\n",
    "               ):\n",
    "    \n",
    "    \n",
    "    \"\"\"\n",
    "    This function makes data ready to feed ML models.\n",
    "    It encodes categorical variables 'country' and 'genre', and convert 'year' to bins.\n",
    "    \"\"\"\n",
    "    \n",
    "    import pandas as pd\n",
    "    \n",
    "    anydf['YearRange'] = pd.cut(anydf['year'], bins_year, labels=names_year)\n",
    "    anydf['country_mapped'] = anydf.country.map(mapping_country)\n",
    "    anydf['genres_mapped'] = anydf.genres.map(mapping_genre)\n",
    "    \n",
    "    if('name' in anydf.columns):\n",
    "        remcols=['imdb_url','name','director','year','country','genres']\n",
    "    else:\n",
    "        remcols=['imdb_url','director','year','country','genres']\n",
    "\n",
    "    anydf.drop(remcols,axis=1,inplace=True)\n",
    "    \n",
    "    anydf['country_mapped'] = anydf['country_mapped'].astype('category')\n",
    "    anydf['genres_mapped'] = anydf['genres_mapped'].astype('category')\n",
    "    anydf['YearRange']=anydf['YearRange'].astype('category')\n",
    "    \n",
    "    # Get one hot encoding of \n",
    "    one_hot_country = pd.get_dummies(anydf['country_mapped'],prefix='C')\n",
    "    one_hot_genre = pd.get_dummies(anydf['genres_mapped'],prefix='G')\n",
    "    one_hot_year = pd.get_dummies(anydf['YearRange'],prefix='Y')\n",
    "    \n",
    "    # do NOT drop first column unless you are using \n",
    "    # linear regression, or generalized linear models estimated by maximum likelihood (or least squares) \n",
    "    \n",
    "    # Drop columns that are encoded\n",
    "    anydf = anydf.drop(['country_mapped','genres_mapped','YearRange'],axis = 1)\n",
    "    # Join the encoded anydf\n",
    "    anydf = anydf.join([one_hot_country,one_hot_genre,one_hot_year])\n",
    "    \n",
    "    # all dfs should include these dummy columns, needed to predict new data\n",
    "    if(col_order!=None):\n",
    "        mis_cols=list(set(col_order)-set(list(anydf.columns)))\n",
    "        if(len(mis_cols)>0):\n",
    "            anydf[mis_cols]=0\n",
    "        anydf=anydf[col_order] # also columns must be in order for XGB to predict!!\n",
    "        \n",
    "        \n",
    "    return(anydf)"
   ]
  },
  {
   "cell_type": "markdown",
   "metadata": {},
   "source": [
    "## Appendix B: Package versions"
   ]
  },
  {
   "cell_type": "code",
   "execution_count": 28,
   "metadata": {},
   "outputs": [
    {
     "name": "stdout",
     "output_type": "stream",
     "text": [
      "      Package  Version\n",
      "       pandas    1.1.3\n",
      "        numpy   1.19.2\n",
      "   matplotlib    3.3.2\n",
      "       plotly   4.14.3\n",
      "    pycountry   20.7.3\n",
      " scikit-learn   0.23.2\n",
      "      xgboost    1.1.1\n",
      "      urllib3  1.25.11\n"
     ]
    }
   ],
   "source": [
    "modules=['pandas',\n",
    "         'numpy',\n",
    "         'matplotlib',\n",
    "         'plotly',\n",
    "         'pycountry',\n",
    "         'scikit-learn',\n",
    "         'xgboost',\n",
    "         'urllib3']\n",
    "\n",
    "moddf=pd.DataFrame(modules,columns=['Package'])\n",
    "moddf['Version']=[version(m) for m in modules]\n",
    "\n",
    "print(moddf.to_string(index=False))"
   ]
  }
 ],
 "metadata": {
  "kernelspec": {
   "display_name": "Python 3",
   "language": "python",
   "name": "python3"
  },
  "language_info": {
   "codemirror_mode": {
    "name": "ipython",
    "version": 3
   },
   "file_extension": ".py",
   "mimetype": "text/x-python",
   "name": "python",
   "nbconvert_exporter": "python",
   "pygments_lexer": "ipython3",
   "version": "3.8.5"
  }
 },
 "nbformat": 4,
 "nbformat_minor": 4
}
