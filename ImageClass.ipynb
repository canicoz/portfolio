{
 "cells": [
  {
   "cell_type": "markdown",
   "metadata": {},
   "source": [
    "# Image Classification"
   ]
  },
  {
   "cell_type": "markdown",
   "metadata": {},
   "source": [
    "## 1. Introduction"
   ]
  },
  {
   "cell_type": "markdown",
   "metadata": {},
   "source": [
    "In this project, I classify four types of images using several machine learning algorithms. The dataset includes a set of gray scale images (32 * 32 pixels) with one of the following objects: horse, truck, frog, and ship (labels 0, 1, 2 and 3, respectively). The goal is to train models to recognize which of the objects is presented in each image. \n",
    "\n",
    "Here are some samples of the training images, one for each class:\n",
    "\n",
    "<img src=\"ImageClass_figure.png\">"
   ]
  },
  {
   "cell_type": "markdown",
   "metadata": {},
   "source": [
    "Before starting, let's import necessary modules and read data:"
   ]
  },
  {
   "cell_type": "code",
   "execution_count": 1,
   "metadata": {
    "collapsed": true
   },
   "outputs": [],
   "source": [
    "# Import python modules\n",
    "import numpy as np\n",
    "import pandas as pd\n",
    "\n",
    "from sklearn.naive_bayes import GaussianNB\n",
    "from sklearn.linear_model import SGDClassifier\n",
    "from sklearn.ensemble import RandomForestClassifier\n",
    "from sklearn.metrics import accuracy_score, classification_report, confusion_matrix\n",
    "from sklearn.model_selection import train_test_split, GridSearchCV\n",
    "\n",
    "from IPython.display import display, HTML\n",
    "import seaborn as sns\n",
    "import matplotlib.pyplot as plt\n",
    "\n",
    "# Read in train and test data\n",
    "def read_image_data():\n",
    "    temp = np.load('data_features.npz')\n",
    "    features= temp['features']\n",
    "    temp = np.load('data_labels.npz')\n",
    "    labels= temp['labels']\n",
    "    return (features, labels)\n",
    "\n",
    "X,y = read_image_data()"
   ]
  },
  {
   "cell_type": "markdown",
   "metadata": {},
   "source": [
    "### Properties of the dataset"
   ]
  },
  {
   "cell_type": "markdown",
   "metadata": {},
   "source": [
    "I first printed the shape of the data set to have an idea, and then divided data set into train (80%) and test (20%) sets:"
   ]
  },
  {
   "cell_type": "code",
   "execution_count": 2,
   "metadata": {},
   "outputs": [
    {
     "name": "stdout",
     "output_type": "stream",
     "text": [
      "\n",
      "Features data (X) set has a shape of: (20000, 1024)\n",
      "\n",
      "Labels data (y) set has a shape of (20000,)\n",
      "\n",
      "\n",
      "Count of each class in train and test test\n",
      "\n",
      "             Count in train data  Count in test data\n",
      "Image Type                                         \n",
      "horse                      4000                1000\n",
      "truck                      4000                1000\n",
      "frog                       4000                1000\n",
      "ship                       4000                1000\n"
     ]
    }
   ],
   "source": [
    "print('\\nFeatures data (X) set has a shape of:', X.shape)\n",
    "print('\\nLabels data (y) set has a shape of', y.shape)\n",
    "\n",
    "#create train and test data sets\n",
    "X_train, X_test, y_train, y_test = train_test_split(X, y, test_size=0.2,random_state=23,stratify=y)\n",
    "\n",
    "#count labels in train and test\n",
    "train_count=[sum(y_train==i) for i in range(4)]\n",
    "test_count=[sum(y_test==i) for i in range(4)]\n",
    "target_names=['horse','truck','frog','ship']\n",
    "count_df = pd.DataFrame({'Count in train data': train_count,\n",
    "                         'Count in test data': test_count},\n",
    "                        index=target_names,\n",
    "                        columns=['Count in train data','Count in test data'])\n",
    "count_df.index.name='Image Type'\n",
    "#without passing column names, it automatically orders column names alphabetically\n",
    "print(\"\\n\\nCount of each class in train and test test\\n\\n\",count_df)"
   ]
  },
  {
   "cell_type": "markdown",
   "metadata": {},
   "source": [
    "## 2. Methodology "
   ]
  },
  {
   "cell_type": "markdown",
   "metadata": {},
   "source": [
    "The strategy I used is the following: \n",
    "\n",
    "Use __cross validation__ (CV) for each model to choose the best parameters (__hyperparameter tuning__), then train each model with best parameters, and finally make prediction on the test subset. After getting predictions, calculate confusion matrix, classification report, and the accuracy (I will use _accuracy_ as a value of scoring parameter for all models).\n",
    "\n",
    "The code first creates all classifiers in section 3 below. Then, it trains, predicts, and get results for all in section 4.\n",
    "\n",
    "Although the above strategy seems straightforward, there are a few important things to decide. I will now discuss these in order of importance."
   ]
  },
  {
   "cell_type": "markdown",
   "metadata": {},
   "source": [
    "###  2.1 Which models to train?"
   ]
  },
  {
   "cell_type": "markdown",
   "metadata": {},
   "source": [
    "There would not be such a question, if the dataset was low-dimensional. We would try as many models as we like, and choose the best one. However, given that our data set is high-dimensional, it would be computationally very expensive to run some models. In addition to computation time, effectiveness of classification algorithms decrease in high-dimensional spaces due to __curse of dimensionality__ phenomena. As dimension of a dataset increases, distance measures, which classification algorithms depend on, become _less_ effective.\n",
    "\n",
    "Although there is a 'curse of dimensionality' phenomena in high-dimensional spaces, algorithms are affected from this _differently_ depending on the distance measure and search algorithm they use. For instance, KNN classifier with Euclidean distance is affected a lot, since Euclidean distance becomes meaningless at high-dimensional spaces and since KNN uses all features when computing distance. (So, classification algorithms using Euclidean distance but with a _subset of features_ may work fine.)\n",
    "\n",
    "As dimension of the feature space increaes, percent of data points that stay at corners increases as well. Actually, that is why choosing a linear kernel for support vector machine (SVM) would be better than nonlinear kernels, such as rbf. The data becomes linearly seperable at high dimensions. \n",
    "(This does NOT mean that every linear classifier is better than every nonlinear classifier at high-dimensional spaces. For instance, random forest is usually hard to beat, as will be seen here too.)\n",
    "\n",
    "Considering both computational time and effectiveness issues, I tried these four models for classifying images:\n",
    "\n",
    " - Linear SVM (with _stochastic gradient descent_)\n",
    " - Logit (with _stochastic gradient descent_)\n",
    " - Naive Bayes\n",
    " - Random Forest"
   ]
  },
  {
   "cell_type": "markdown",
   "metadata": {},
   "source": [
    "### 2.2 Which hyperparameters to tune?"
   ]
  },
  {
   "cell_type": "markdown",
   "metadata": {},
   "source": [
    "Hyperparameter tuning is an important step in training machine learning models. Since computational time increases dramatically as the dimension of hyperparameter grid increases, I had to decide which hyperparameters to tune. Models have many hyperparameters, and it is computationally very expensive to check every possible combination. It is, therefore, crucial to decide which hyperparameters to tune. For each model, I tuned _only 1-2 hyperparameters_ which I consider most important ones. \n",
    "\n",
    "(When I tried increasing the dimension of hyperparamter grid, computational time increased a lot. For instance, even with RandomizedSearchCV, I couldn't add any more hyperparameter to random forest model, as my laptop couldn't handle.)"
   ]
  },
  {
   "cell_type": "markdown",
   "metadata": {},
   "source": [
    "## 3. Classifiers"
   ]
  },
  {
   "cell_type": "markdown",
   "metadata": {},
   "source": [
    "### Linear SVM (with SGD)"
   ]
  },
  {
   "cell_type": "markdown",
   "metadata": {},
   "source": [
    "SVMs are great algorithms to start with as they are effective in high dimensional spaces and _highly resistant to over-fitting_. \n",
    "\n",
    "Python can sometimes be confusing as it may seem to include several functions for \"same\" task (but they are different actually). There are mainly three ways to do linear SVM in Python:\n",
    "\n",
    "- SVC (in sklearn.svm) with parameter kernel='linear': C-Support Vector Classification. The implementation is based on libsvm.\n",
    "\n",
    "- LinearSVC (in sklearn.svm) , which described as \"similar to SVC with parameter kernel=’linear’, but implemented in terms of liblinear rather than libsvm, so it has more flexibility in the choice of penalties and loss functions and should scale better to large numbers of samples\".\n",
    "\n",
    "- SGDC (Stochastic Gradient Descent Classifier, in sklearn.linear_model): This is a linear classifier (SVM, logistic regression, etc.) with SGD training, and implements regularized linear models with stochastic gradient descent (SGD) learning. When parameter loss='hinge', this gives a linear SVM.\n",
    "\n",
    "\n",
    "The first (SVC) and the second one (LinearSVC) use all points in the dataset, which make them computationally very expensive in high-dimensional problems, such as the one we have in here. On the other hand, SGDC uses stochastic gradient descent for training, so more efficient than the other two and requires less memory. That is why I chose SGDC function for training a linear SVM algorithm in this project.\n"
   ]
  },
  {
   "cell_type": "code",
   "execution_count": 3,
   "metadata": {
    "collapsed": true
   },
   "outputs": [],
   "source": [
    "param_dist = { #set of hyperparameters\n",
    "              'alpha': [1e-4,1e-2,1,10],      \n",
    "              'penalty':['l2','l1']\n",
    "              }\n",
    "             \n",
    "lin_hinge=SGDClassifier(loss='hinge',shuffle=True,random_state=35) #creating classifier\n",
    "#'hinge' loss gives a linear SVM\n",
    "\n",
    "svm= GridSearchCV(lin_hinge, param_dist, cv=5,scoring='accuracy') #creating GridSearchCV object"
   ]
  },
  {
   "cell_type": "markdown",
   "metadata": {},
   "source": [
    "### Logit (with SGD)"
   ]
  },
  {
   "cell_type": "markdown",
   "metadata": {},
   "source": [
    "I used SGDC classifier with ‘log’ loss function, rather than LogisticRegression in sklearn, as the former is _more efficient in high-dimensional spaces_ than the latter."
   ]
  },
  {
   "cell_type": "code",
   "execution_count": 4,
   "metadata": {
    "collapsed": true
   },
   "outputs": [],
   "source": [
    "#same parameter set is used as the previous case, so no need to redefine             \n",
    "\n",
    "lin_log=SGDClassifier(loss='log',shuffle=True,random_state=35) #creating classifier\n",
    "#'log' loss gives logistic regression, a probabilistic classifier\n",
    "\n",
    "logit=GridSearchCV(lin_log, param_dist, cv=5,scoring='accuracy') #creating GridSearchCV object"
   ]
  },
  {
   "cell_type": "markdown",
   "metadata": {},
   "source": [
    "### Gaussian Naive Bayes"
   ]
  },
  {
   "cell_type": "markdown",
   "metadata": {},
   "source": [
    "Simple classifier, and also fast & easy to perform even at higher dimensions. So, it is worth trying:"
   ]
  },
  {
   "cell_type": "code",
   "execution_count": 5,
   "metadata": {
    "collapsed": true
   },
   "outputs": [],
   "source": [
    "gnb = GaussianNB() #creating classifier"
   ]
  },
  {
   "cell_type": "markdown",
   "metadata": {},
   "source": [
    "### Random Forest"
   ]
  },
  {
   "cell_type": "markdown",
   "metadata": {},
   "source": [
    "Random forest is one of the best algorithms for classification (resistant to over-fitting and usually high accuracy). Let's see how it works in our high-dimensional feature space: "
   ]
  },
  {
   "cell_type": "code",
   "execution_count": 6,
   "metadata": {
    "collapsed": true
   },
   "outputs": [],
   "source": [
    "param_dist = { #set of parameters\n",
    "              \"n_estimators\": [100,200]\n",
    "              }\n",
    "\n",
    "rf_clf = RandomForestClassifier() #creating classifier\n",
    "\n",
    "rf = GridSearchCV(rf_clf, param_dist, cv=5,scoring='accuracy') #creating GridSearchCV object"
   ]
  },
  {
   "cell_type": "markdown",
   "metadata": {},
   "source": [
    "## 4. Results"
   ]
  },
  {
   "cell_type": "markdown",
   "metadata": {},
   "source": [
    "The following function is used to train each model and get prediction results:"
   ]
  },
  {
   "cell_type": "code",
   "execution_count": 7,
   "metadata": {
    "collapsed": true
   },
   "outputs": [],
   "source": [
    "def classify(M):\n",
    "    \"\"\" This function trains and evaluates classification algorithms\"\"\"\n",
    "    \"\"\"And, it returns a result (list of measures for evaluation) for each model\"\"\"\n",
    "    \n",
    "    result=[] #empty list, will be filled and returned\n",
    "    M.fit(X_train,y_train) #fitting model on training data\n",
    "    y_pred=M.predict(X_test) #prediction on test data\n",
    "    \n",
    "    acc=accuracy_score(y_test,y_pred) #accuracy\n",
    "    conf=confusion_matrix(y_test,y_pred) # confusion matrix\n",
    "    rep=classification_report(y_test,y_pred,target_names=target_names) #classification report\n",
    "    \n",
    "    best='' #for best parameters, this part is needed, since gnb does not use CV\n",
    "    if M!=gnb:\n",
    "        best=M.best_params_\n",
    "        \n",
    "    result.extend([acc,conf,rep,best]) #combining all as a list\n",
    "    return result"
   ]
  },
  {
   "cell_type": "markdown",
   "metadata": {},
   "source": [
    "And, here is the part that I run all classifiers and print the results:"
   ]
  },
  {
   "cell_type": "code",
   "execution_count": 8,
   "metadata": {},
   "outputs": [
    {
     "name": "stdout",
     "output_type": "stream",
     "text": [
      "Here is the resulting table that compares all algorithms used:\n",
      "\n",
      "\n"
     ]
    },
    {
     "data": {
      "text/html": [
       "<table border=\"1\" class=\"dataframe\">\n",
       "  <thead>\n",
       "    <tr style=\"text-align: right;\">\n",
       "      <th>Algorithm</th>\n",
       "      <th>Best Set of Parameters</th>\n",
       "      <th>Classification Accuracy</th>\n",
       "    </tr>\n",
       "  </thead>\n",
       "  <tbody>\n",
       "    <tr>\n",
       "      <td>Linear SVM</td>\n",
       "      <td>{'alpha': 0.01, 'penalty': 'l2'}</td>\n",
       "      <td>0.550</td>\n",
       "    </tr>\n",
       "    <tr>\n",
       "      <td>Logit</td>\n",
       "      <td>{'alpha': 0.01, 'penalty': 'l2'}</td>\n",
       "      <td>0.557</td>\n",
       "    </tr>\n",
       "    <tr>\n",
       "      <td>Gaussian Naive Bayes</td>\n",
       "      <td></td>\n",
       "      <td>0.530</td>\n",
       "    </tr>\n",
       "    <tr>\n",
       "      <td>Random Forest</td>\n",
       "      <td>{'n_estimators': 200}</td>\n",
       "      <td>0.688</td>\n",
       "    </tr>\n",
       "  </tbody>\n",
       "</table>"
      ],
      "text/plain": [
       "<IPython.core.display.HTML object>"
      ]
     },
     "metadata": {},
     "output_type": "display_data"
    },
    {
     "name": "stdout",
     "output_type": "stream",
     "text": [
      "\n",
      "\n",
      " According to the table above, the best algorithm that gives the highest classification accuracy is Random Forest\n",
      "\n",
      "\n",
      " And here is the classification report of the best algorithm:\n",
      "\n",
      "\n",
      "              precision    recall  f1-score   support\n",
      "\n",
      "      horse       0.70      0.66      0.68      1000\n",
      "      truck       0.65      0.69      0.67      1000\n",
      "       frog       0.68      0.73      0.71      1000\n",
      "       ship       0.74      0.66      0.70      1000\n",
      "\n",
      "avg / total       0.69      0.69      0.69      4000\n",
      "\n"
     ]
    }
   ],
   "source": [
    "#running algorithms\n",
    "models=[svm,logit,gnb,rf]\n",
    "results=[classify(m) for m in models]\n",
    "\n",
    "#constructing a dataframe to compare accuracy for each model\n",
    "names=['Linear SVM','Logit','Gaussian Naive Bayes', 'Random Forest']\n",
    "accuracy=[round(r[0],3) for r in results]\n",
    "best_par=[r[3] for r in results]\n",
    "\n",
    "final_df = pd.DataFrame(\n",
    "    {'Algorithm': names,\n",
    "     'Classification Accuracy': accuracy,\n",
    "     'Best Set of Parameters': best_par\n",
    "    })\n",
    "\n",
    "#printing dataframe to compare models    \n",
    "print(\"Here is the resulting table that compares all algorithms used:\\n\\n\")\n",
    "pd.set_option('display.max_colwidth', -1) # to display long strings\n",
    "display(HTML(final_df.to_html(index=False))) # to display without index\n",
    "\n",
    "#printing the name of the best model and its classification report\n",
    "best=accuracy.index(max(accuracy))\n",
    "\n",
    "print(\"\\n\\n According to the table above, the best algorithm that gives the highest classification accuracy is\", names[best])\n",
    "print(\"\\n\\n And here is the classification report of the best algorithm:\\n\\n\\n\",results[best][2])\n"
   ]
  },
  {
   "cell_type": "code",
   "execution_count": 9,
   "metadata": {},
   "outputs": [
    {
     "name": "stdout",
     "output_type": "stream",
     "text": [
      "\n",
      "\n",
      " Here is a nice representation of the confusion matrix of the best algorithm:\n",
      "\n",
      "\n"
     ]
    },
    {
     "data": {
      "image/png": "[encoded data removed]",
      "text/plain": [
       "<matplotlib.figure.Figure at 0x11d9e0f28>"
      ]
     },
     "metadata": {},
     "output_type": "display_data"
    }
   ],
   "source": [
    "#representing confusion matrix as heatmap\n",
    "df_conf = pd.DataFrame(results[best][1], index=target_names, columns=target_names)\n",
    "\n",
    "print(\"\\n\\n Here is a nice representation of the confusion matrix of the best algorithm:\\n\\n\")\n",
    "\n",
    "heatmap = sns.heatmap(df_conf, annot=True,fmt=\"d\")\n",
    "plt.ylabel('True label')\n",
    "plt.xlabel('Predicted label')\n",
    "plt.show()"
   ]
  },
  {
   "cell_type": "markdown",
   "metadata": {},
   "source": [
    "## 5. Comments"
   ]
  },
  {
   "cell_type": "markdown",
   "metadata": {},
   "source": [
    "Among all models, Random Forest produced by far the best accuracy for this data set! Actually, this is not unexpected. Some even argue that random forest is _the best_ classification algorithm. Although \"the best\" is a very strong word to use for any classification algorithm, I think random forest produces very good results in _most_ problems, and _usually_ outperforms others.\n",
    "\n",
    "(As for reference, there are two relatively recent and interesting articles, both puplished in JMLR. While [Fernández-Delgado et al.(2014)](http://jmlr.org/papers/volume15/delgado14a/delgado14a.pdf) argue that \"the classifiers most likely to be the bests are the random forest (RF) versions\", [Wainberg et. al.(2016)](http://jmlr.org/papers/volume17/15-374/15-374.pdf) don't agree with them.)\n",
    "\n",
    "In terms of image classes, as can be seen from the confusion matrix above, \"frog\" images were classified more accurately than all others, and the second best prediction (in terms of accuracy) were \"truck\" images."
   ]
  }
 ],
 "metadata": {
  "kernelspec": {
   "display_name": "Python 3",
   "language": "python",
   "name": "python3"
  },
  "language_info": {
   "codemirror_mode": {
    "name": "ipython",
    "version": 3
   },
   "file_extension": ".py",
   "mimetype": "text/x-python",
   "name": "python",
   "nbconvert_exporter": "python",
   "pygments_lexer": "ipython3",
   "version": "3.6.1"
  }
 },
 "nbformat": 4,
 "nbformat_minor": 2
}
